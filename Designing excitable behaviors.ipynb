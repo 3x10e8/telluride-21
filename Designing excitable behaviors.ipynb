{
 "cells": [
  {
   "cell_type": "markdown",
   "id": "4b240df5",
   "metadata": {
    "colab_type": "text",
    "id": "view-in-github"
   },
   "source": [
    "<a href=\"https://colab.research.google.com/github/3x10e8/telluride-21/blob/neurodyn/Designing_excitable_behaviors.ipynb\" target=\"_parent\"><img src=\"https://colab.research.google.com/assets/colab-badge.svg\" alt=\"Open In Colab\"/></a>"
   ]
  },
  {
   "cell_type": "markdown",
   "id": "7da585cf",
   "metadata": {},
   "source": [
    "# Environment Setup"
   ]
  },
  {
   "cell_type": "code",
   "execution_count": 2,
   "id": "0xOA4u94VHdt",
   "metadata": {
    "colab": {
     "base_uri": "https://localhost:8080/"
    },
    "id": "0xOA4u94VHdt",
    "outputId": "240beaf5-b5e8-4195-d4dd-47f1272f94b4"
   },
   "outputs": [
    {
     "name": "stdout",
     "output_type": "stream",
     "text": [
      "Can run %%black to format cells now!\n"
     ]
    }
   ],
   "source": [
    "try:\n",
    "    # check if running in google colab\n",
    "    import google.colab\n",
    "    \n",
    "    # if in colab, clone the repo first\n",
    "    ! git clone https://github.com/3x10e8/telluride-21.git\n",
    "        \n",
    "    # move into the repo directory for accessing other modules\n",
    "    %cd telluride-21/\n",
    "    \n",
    "except ModuleNotFoundError:\n",
    "    # we must be running locally\n",
    "    try:\n",
    "        # for formatting cells with black\n",
    "        %load_ext blackcellmagic\n",
    "        print(\"Can run %%black to format cells now!\")\n",
    "    except ModuleNotFoundError:\n",
    "        pass # optional"
   ]
  },
  {
   "cell_type": "markdown",
   "id": "_6Q6b_o4U9Bp",
   "metadata": {
    "id": "_6Q6b_o4U9Bp"
   },
   "source": [
    "# Designing excitable behaviors\n",
    "\n",
    "## Overview\n",
    "\n",
    "This notebook provides a guide to designing spiking and bursting behaviors using the simplified neuronal model described in [Neuromodulation of Neuromorphic Circuits](https://arxiv.org/abs/1805.05696) and [Neuromorphic Control](https://arxiv.org/abs/2011.04441). The guide is intended as a general introduction to understanding how spiking and bursting behaviors are built through the interconnection of mixed feedback elements. The elements of this model have a simple form that enables easy synthesis and analysis procedures, but they emulate the same roles that different ionic currents provide in biophysical neurons. By the end of the guide, readers should have a good understanding of the essential elements required for generating a rich set of neuronal behaviors, as well as gain an intuition of what effect different ionic currents have in more complicated biophysical neuronal models.\n",
    "\n",
    "**Note:**\n",
    "When rerunning cells that use `add_conductance` or `add_current` methods, the elements will be added **in addition** to all of the elements added previously. If you would like to change parameters of an element that you have already added, either use element's `update` methods shown later in the notebook, or rerun all of the cells from the start so you start with an empty neuron. You can rerun the whole notebook up to a cell by clicking on the top:\n",
    "\n",
    "`Cell -> Run All Above`\n",
    "\n",
    "or just run the whole notebook from the start:\n",
    "\n",
    "`Cell -> Run All`"
   ]
  },
  {
   "cell_type": "markdown",
   "id": "65oBPaf7U9Bv",
   "metadata": {
    "id": "65oBPaf7U9Bv"
   },
   "source": [
    "## Defining a model\n",
    "\n",
    "We first need to load the model definitions and the required Python packages:\n",
    "\n",
    "- `matplotlib`: Python library for plotting\n",
    "- `numpy`: Python library for numerical operations\n",
    "- `iv_model`: definitions for constructing and simulating neurons"
   ]
  },
  {
   "cell_type": "code",
   "execution_count": 3,
   "id": "YLVLU58YU9Bv",
   "metadata": {
    "id": "YLVLU58YU9Bv"
   },
   "outputs": [],
   "source": [
    "import matplotlib.pyplot as plt\n",
    "import numpy as np\n",
    "from iv_model import Neuron\n",
    "\n",
    "%matplotlib inline\n",
    "%load_ext autoreload\n",
    "%autoreload 2"
   ]
  },
  {
   "cell_type": "markdown",
   "id": "A-QXtpCeU9Bx",
   "metadata": {
    "id": "A-QXtpCeU9Bx"
   },
   "source": [
    "We first start by creating a single neuron object of the Neuron class by executing:"
   ]
  },
  {
   "cell_type": "code",
   "execution_count": 4,
   "id": "OfkyqibSU9By",
   "metadata": {
    "id": "OfkyqibSU9By"
   },
   "outputs": [],
   "source": [
    "neuron = Neuron(v0 = 0)"
   ]
  },
  {
   "cell_type": "markdown",
   "id": "8MGoUHqNU9By",
   "metadata": {
    "id": "8MGoUHqNU9By"
   },
   "source": [
    "This line generates an *empty* neuron circuit, consisting only of a membrane capacitor with default capacitance $C = 1$ with the initial voltage set to $V_0 = 0$.\n",
    "\n",
    "If we instead wish to set the membrane capacitance to say $C = 1\\mu F$ and the initial voltage to $V = 5mV$, we can pass optional keyword arguments when creating the neuron:\n",
    "\n",
    "`neuron = Neuron(C = 1e-6, v0 = 5e-3)`\n",
    "\n",
    "For the purposes of this notebook, we will stick with the dimensionless variables to simplify the exposure, but the parameters of the model may be changed appropriately to generate spiking behavior in the biophysical range."
   ]
  },
  {
   "cell_type": "markdown",
   "id": "uiZ8rOy5U9Bz",
   "metadata": {
    "id": "uiZ8rOy5U9Bz"
   },
   "source": [
    "## Interconnecting elements\n",
    "\n",
    "Fig. 1 shows a general representation of a neuron as a parallel interconnection of a passive membrane, consisting of the membrane capacitance and passive (leak) resistance, and a multitude of *feedback currents*, i.e. elements emulating the action of ionic currents.\n",
    "\n",
    "<div>\n",
    "<img src=\"https://github.com/3x10e8/telluride-21/blob/main/figures/neuromorphic_circuit.png?raw=1\" width=\"500\"/>\n",
    "<caption><center> <b>Fig. 1: </b>Neural circuit as a parallel interconnection of elements </center></caption>\n",
    "</div>\n",
    "\n",
    "At the moment, our neuron consists solely of a membrane capacitor, so let's start forming the neuron by interconnecting elements in parallel one by one. We first add a single passive resistor with conductance $g_l = 1$ in series with a battery of voltage $E_l = 0$, mirroring the *leak* conductance element of the classical Hodgkin-Huxley model $I_{l} = g_l (V - E_l)$:"
   ]
  },
  {
   "cell_type": "code",
   "execution_count": 5,
   "id": "UOsq3Yj1U9B0",
   "metadata": {
    "id": "UOsq3Yj1U9B0"
   },
   "outputs": [],
   "source": [
    "R = neuron.add_conductance(1, E_rev = 0)"
   ]
  },
  {
   "cell_type": "markdown",
   "id": "14mtveVaU9B1",
   "metadata": {
    "id": "14mtveVaU9B1"
   },
   "source": [
    "The method `add_conductance` takes two arguments: the first defining the maximal conductance, and the second (optinal) argument defining the reversal potential. Ignoring the second argument sets $E_{rev} = 0$ so we didn't have to explicitly write it here."
   ]
  },
  {
   "cell_type": "code",
   "execution_count": 6,
   "id": "ee7477b3",
   "metadata": {},
   "outputs": [],
   "source": [
    "# plotting utility functions to be called in cells below\n",
    "def plot_IV(I, V, ax=[], ylim=[], append_title=''):\n",
    "    \n",
    "    if ax == []:\n",
    "        fig, ax = plt.subplots()\n",
    "\n",
    "    ax.set_title(\"I-V curve \" + append_title)\n",
    "    ax.set_xlabel(\"Voltage [a.u.]\")\n",
    "    ax.set_ylabel(\"Current [a.u.]\")\n",
    "    ax.plot(V, I, label='I-V')\n",
    "    plt.legend()\n",
    "    plt.grid(True)\n",
    "    \n",
    "    if ylim != []:\n",
    "        ax.set_ylim(ylim)\n",
    "        \n",
    "    plt.show()\n",
    "\n",
    "\n",
    "def plot_step_response(neuron_model, i_app):\n",
    "    # matplotlib's blue color from stackexchange\n",
    "    MY_DEFAULT_BLUE = (\n",
    "        \"#1f77b4\"  # for coloring labels/axis using matplotlib's default blue\n",
    "    )\n",
    "    # Solve for the step response response\n",
    "    sol = neuron_model.simulate(trange, i_app)  # call neuron's simulate functionality\n",
    "\n",
    "    fig, axI = plt.subplots()\n",
    "    axI.plot(sol.t, i_app(sol.t))\n",
    "    axI.set_ylabel(\"Input current $I_{app}$ [a.u.]\", color=MY_DEFAULT_BLUE)\n",
    "    axI.tick_params(axis=\"y\", labelcolor=MY_DEFAULT_BLUE)\n",
    "    axI.set_xlabel(\"Time\")\n",
    "\n",
    "    axV = axI.twinx()\n",
    "    axV.set_title(\"Passive membrane step response\")\n",
    "    axV.set_ylabel(\"Membrane voltage [a.u.]\", color=\"r\")\n",
    "    axV.tick_params(axis=\"y\", labelcolor=\"r\")\n",
    "    axV.plot(sol.t, sol.y[0], \"r\")\n",
    "    plt.grid()\n",
    "    plt.show()"
   ]
  },
  {
   "cell_type": "markdown",
   "id": "j6mT1Lz6U9B2",
   "metadata": {
    "id": "j6mT1Lz6U9B2"
   },
   "source": [
    "### Steady-State Response\n",
    "We can check that the neuron consists of a single resistor interconnected with the membrane capacitor by measuring its current-voltage (**IV**) curve. The method `IV_ss` sums up the steady-state IV curves of all elements in the circuit (note that at steady state the current going through the capacitor is $0$, so we can ignore it). Since so far we only have a single resistor element, the function should measure its IV characteristic."
   ]
  },
  {
   "cell_type": "code",
   "execution_count": 7,
   "id": "rLDMKwuoU9B3",
   "metadata": {
    "colab": {
     "base_uri": "https://localhost:8080/",
     "height": 295
    },
    "id": "rLDMKwuoU9B3",
    "outputId": "10f478fc-e312-4d0a-f85b-18aca2c0deb2"
   },
   "outputs": [
    {
     "data": {
      "image/png": "[encoded data removed]",
      "text/plain": [
       "<Figure size 432x288 with 1 Axes>"
      ]
     },
     "metadata": {
      "needs_background": "light"
     },
     "output_type": "display_data"
    }
   ],
   "source": [
    "V = np.arange(-3, 3, 0.1)\n",
    "I = neuron.IV_ss(V)\n",
    "plot_IV(I, V, append_title='with only R')"
   ]
  },
  {
   "cell_type": "markdown",
   "id": "dihbk2q7U9B3",
   "metadata": {
    "id": "dihbk2q7U9B3"
   },
   "source": [
    "The neuron's IV curve is a straight line - characteristic of a linear resistor!\n",
    "\n",
    "The neuron is now a simple leaky integrator that integrates the applied current. Let us check its behavior by applying a step input current at $t = 5$:"
   ]
  },
  {
   "cell_type": "markdown",
   "id": "34b1a2d6",
   "metadata": {},
   "source": [
    "### Simulated Step Response"
   ]
  },
  {
   "cell_type": "code",
   "execution_count": 8,
   "id": "B5cFDXDPU9B4",
   "metadata": {
    "colab": {
     "base_uri": "https://localhost:8080/",
     "height": 557
    },
    "id": "B5cFDXDPU9B4",
    "outputId": "a48c9771-c2ad-4cb7-8851-b445031ef4a0"
   },
   "outputs": [
    {
     "data": {
      "image/png": "[encoded data removed]",
      "text/plain": [
       "<Figure size 432x288 with 2 Axes>"
      ]
     },
     "metadata": {
      "needs_background": "light"
     },
     "output_type": "display_data"
    }
   ],
   "source": [
    "trange = (0, 15) # time length of simulation\n",
    "i_app = lambda t: (t<5)*0 + (t>=5)*1 # Iapp(t)\n",
    "\n",
    "sol = neuron.simulate(trange, i_app) # call neuron's simulate functionality\n",
    "\n",
    "# Plot simulation\n",
    "plot_step_response(neuron, i_app)"
   ]
  },
  {
   "cell_type": "markdown",
   "id": "Un8_YdNCbW7-",
   "metadata": {
    "id": "Un8_YdNCbW7-"
   },
   "source": [
    "The neuron acts as a simple first-order filter: the voltage follows a step change in the applied current with a time lag given by the membrane capacitance and the conductance of the resistive element."
   ]
  },
  {
   "cell_type": "markdown",
   "id": "D-ZmJunHbZ1B",
   "metadata": {
    "id": "D-ZmJunHbZ1B"
   },
   "source": [
    "### Changing $E_{leak}$\n",
    "What happens if we change the leak's reversal potential?"
   ]
  },
  {
   "cell_type": "code",
   "execution_count": 9,
   "id": "n2WE4J_Acamr",
   "metadata": {
    "id": "n2WE4J_Acamr"
   },
   "outputs": [],
   "source": [
    "import ipywidgets"
   ]
  },
  {
   "cell_type": "code",
   "execution_count": 10,
   "id": "5BpRBRJ5bofP",
   "metadata": {
    "colab": {
     "base_uri": "https://localhost:8080/",
     "height": 605,
     "referenced_widgets": [
      "6cb5b6f82330478e9b0397d1dfa0e50a",
      "57c2c4abb5034dfca9dc104014106d1d",
      "32dcf89c82c94b908c1da958c208a8c0",
      "6f40af3b44c249d4a62ad7ce88980802",
      "b482bec22099478aaf5102168647aace",
      "4c6bbbb7194c409bb5b146c89cdc8712",
      "77c42ab74f9946b1a29a05c38533d9db"
     ]
    },
    "id": "5BpRBRJ5bofP",
    "outputId": "119b9d14-7e11-41d2-a6d3-55a985942f59"
   },
   "outputs": [
    {
     "data": {
      "application/vnd.jupyter.widget-view+json": {
       "model_id": "803702b7cc7e4b00a6bd25c6ac5b4a77",
       "version_major": 2,
       "version_minor": 0
      },
      "text/plain": [
       "interactive(children=(IntSlider(value=0, description='E_rev_leak', max=3, min=-3), Output()), _dom_classes=('w…"
      ]
     },
     "metadata": {},
     "output_type": "display_data"
    }
   ],
   "source": [
    "from matplotlib.lines import MarkerStyle\n",
    "\n",
    "@ipywidgets.interact(E_rev_leak=(-3, 3))\n",
    "def R_plot(E_rev_leak=0):  # this works on global variables neuron, R\n",
    "    # update the leak resistance R's E_rev\n",
    "    R.E_rev = E_rev_leak\n",
    "\n",
    "    # plot E_rev\n",
    "    fig, ax = plt.subplots()\n",
    "    ax.axvline(x=E_rev_leak, c=\"r\", alpha=0.5, label=\"$E_{rev}$\")\n",
    "    \n",
    "    # also plot the steady state response\n",
    "    I = neuron.IV_ss(V)\n",
    "    plot_IV(I, V, ax, ylim=[-3, 3], append_title='with only R')"
   ]
  },
  {
   "cell_type": "markdown",
   "id": "Ij5GBG27U9B5",
   "metadata": {
    "id": "Ij5GBG27U9B5"
   },
   "source": [
    "## Active Elements\n",
    "\n",
    "In order to build interesting dynamical behaviors, we need to interconnect *active* elements that emulate the dynamical properties of ionic currents. All active elements (voltage-controlled currents $I_j$ in Fig. 1) will have the same simplified form:\n",
    "\n",
    "$$I_j = \\alpha_j \\tanh (V_j - V_{off,j})$$\n",
    "$$\\tau_j \\dot{V}_j = V - V_j$$\n",
    "\n",
    "The first-order filter defines the timescale of the element, so that increasing the parameter $\\tau_j$ renders the element slower. The other two parameters are $\\alpha_j$, defining the gain of the element, and $V_{off,j}$, defining the mid-point of the hyperbolic tangent function.\n",
    "\n",
    "Importantly, we can also change the **sign** of $\\alpha_j$:\n",
    "- $\\alpha_j > 0$ element has a purely **positive** resistance current-voltage characteristic\n",
    "- $\\alpha_j < 0$ element has a purely **negative** resistance current-voltage characteristic"
   ]
  },
  {
   "cell_type": "markdown",
   "id": "j2ip1TPDU9B5",
   "metadata": {
    "id": "j2ip1TPDU9B5"
   },
   "source": [
    "## Designing a bistable neuron\n",
    "\n",
    "Let's start by adding a single active element. Since with this element we would like to capture the fast excitatory nature of the activation of the sodium current, we can set it to be *instantaneous*, i.e. we can set $\\tau_x = 0$. We would also like this element to have a *negative resistance* characteristic, so let's start by setting $\\alpha = -1$. We will keep $V_{off}=0$ for now."
   ]
  },
  {
   "cell_type": "code",
   "execution_count": 11,
   "id": "CWpEdeiqU9B6",
   "metadata": {
    "id": "CWpEdeiqU9B6"
   },
   "outputs": [],
   "source": [
    "a = -1\n",
    "voff = 0\n",
    "tau = 0\n",
    "\n",
    "i1 = neuron.add_current(a, voff, tau)"
   ]
  },
  {
   "cell_type": "markdown",
   "id": "p1cYwgyAU9B6",
   "metadata": {
    "id": "p1cYwgyAU9B6"
   },
   "source": [
    "Let's first measure the element's current-voltage (IV) characteristic. We can do this by calling the element's `out` method that takes the input voltage and returns the output current:"
   ]
  },
  {
   "cell_type": "code",
   "execution_count": 13,
   "id": "TgurkBURU9B6",
   "metadata": {
    "colab": {
     "base_uri": "https://localhost:8080/",
     "height": 295
    },
    "id": "TgurkBURU9B6",
    "outputId": "7d918227-165a-4a04-8a42-eace2fbe7654"
   },
   "outputs": [
    {
     "data": {
      "image/png": "[encoded data removed]",
      "text/plain": [
       "<Figure size 432x288 with 1 Axes>"
      ]
     },
     "metadata": {
      "needs_background": "light"
     },
     "output_type": "display_data"
    }
   ],
   "source": [
    "V = np.arange(-3, 3, 0.1)\n",
    "I = i1.out(V)\n",
    "plot_IV(I, V, append_title=': Negative conductance characteristic')"
   ]
  },
  {
   "cell_type": "markdown",
   "id": "cIfbNfWoh-BK",
   "metadata": {
    "id": "cIfbNfWoh-BK"
   },
   "source": [
    "We can explore how varying these parameters changes the element's I-V curve:"
   ]
  },
  {
   "cell_type": "code",
   "execution_count": 14,
   "id": "wDEtDsuLiDpy",
   "metadata": {
    "colab": {
     "base_uri": "https://localhost:8080/",
     "height": 391,
     "referenced_widgets": [
      "1b5a783fad4b4ba791910d0bb1a11a01",
      "8478cb1aa49b4f6f9b517912dd16f6f7",
      "842ce73ff2c4479bae8e09fab07dca19",
      "600ecbef82114240abd12bbc60808b15",
      "aee29567c7ed4039b14c60a8915abfce",
      "dfbec3d445984fcca868147520d3b5f1",
      "f663940414884f82800e8b944595ff61",
      "2e8dff6f95c84693afac13908663e274",
      "78b7539e4a6347328222f00b274b040d",
      "49b02a27253446cc8cb738885278d74c",
      "f36de8f0895845a2819f7ffe71546efd",
      "b8cfef5634fc461bb788c91467529cde",
      "68ba22c0a62a4dd7a26c8e26626bea59"
     ]
    },
    "id": "wDEtDsuLiDpy",
    "outputId": "bdc4cef2-8333-45aa-d389-edae217c91f6"
   },
   "outputs": [
    {
     "data": {
      "application/vnd.jupyter.widget-view+json": {
       "model_id": "5ad1bc2a3d9a4184a912d4d414151928",
       "version_major": 2,
       "version_minor": 0
      },
      "text/plain": [
       "interactive(children=(IntSlider(value=-1, description='αNa', max=3, min=-3), IntSlider(value=0, description='v…"
      ]
     },
     "metadata": {},
     "output_type": "display_data"
    }
   ],
   "source": [
    "@ipywidgets.interact(αNa=(-3, 3), voff_Na=(-3, 3), τNa=(-3,3))\n",
    "def i1_plot(αNa=-1, voff_Na=0, τNa=0): # this works on global variables neuron, i1\n",
    "  #print(dir(i1))\n",
    "  i1.a = αNa\n",
    "  i1.voff = voff_Na\n",
    "  i1.tau = τNa # note: changing tau doesn't affect the steady state response\n",
    "  I = i1.out(V)\n",
    "\n",
    "  plot_IV(I, V, append_title=': Negative conductance characteristic')"
   ]
  },
  {
   "cell_type": "markdown",
   "id": "_pAr_yKqU9B7",
   "metadata": {
    "id": "_pAr_yKqU9B7"
   },
   "source": [
    "Interconnection of the element should have changed the neuron's steady-state IV curve. Let's measure this now:"
   ]
  },
  {
   "cell_type": "code",
   "execution_count": 15,
   "id": "BAsYKrmrU9B7",
   "metadata": {
    "colab": {
     "base_uri": "https://localhost:8080/",
     "height": 295
    },
    "id": "BAsYKrmrU9B7",
    "outputId": "e2b1eeca-530b-41c0-feab-fc1291486031"
   },
   "outputs": [
    {
     "data": {
      "image/png": "[encoded data removed]",
      "text/plain": [
       "<Figure size 432x288 with 1 Axes>"
      ]
     },
     "metadata": {
      "needs_background": "light"
     },
     "output_type": "display_data"
    }
   ],
   "source": [
    "I = neuron.IV_ss(V)\n",
    "\n",
    "plot_IV(I, V, append_title=': Neuron steady-state curve')"
   ]
  },
  {
   "cell_type": "markdown",
   "id": "JoyEOeUVU9B8",
   "metadata": {
    "id": "JoyEOeUVU9B8"
   },
   "source": [
    "We observe that the steady-state characteristic has indeed changed - the addition of the negative resistor has decreased the slope around the origin (note that the slope is exactly $0$ at $V = 0$).\n",
    "\n",
    "Let's now try varying the gain of the negative resistor in order to change IV characteristic: we wish to make the neuron **bistable** so that for some $I_{app}$ there are **two** stable equilibrium voltages. Let's change the gain of the element $\\alpha$ so that for a range of voltages there is a *negative slope* in the IV characteristic, i.e. the IV characteristic should resemble a letter \"N\"."
   ]
  },
  {
   "cell_type": "code",
   "execution_count": 16,
   "id": "p9KSGWuoU9B8",
   "metadata": {
    "colab": {
     "base_uri": "https://localhost:8080/",
     "height": 423,
     "referenced_widgets": [
      "f3c9879291ea40b9947dfeecd8bda11f",
      "417c251b6f1e4bcbae0a07a514dac779",
      "23a55501de7a4c0b8374e637c60d66c6",
      "73c9c2f3220e40f89af0ad9a80cb49ab",
      "caabe942c1dd43b3b93225d1e7d6fe67",
      "d77f5a01f11842ba9610e0ceade52522",
      "5313bde0ef5341a5a021c62226423737",
      "35d5ef012c424413868fd10a30fbb418",
      "e74e8cb275b343e5bd89b7075bbb0093",
      "3f3a6f9d618143e0af93825fb92829b5",
      "f568d0022dfc435abfc98ab72d3ba79a",
      "da7e3441367e4e478175eb19b5bc7794",
      "2c5b3a3853794901b3dc25091ccf3b59",
      "3631b644bdd44e3fa0107345763dc05c",
      "0ff22bc91aa64e8fa38a204d3943a3f3",
      "3cbe03050dfb4d90a7ed7704a061750a"
     ]
    },
    "id": "p9KSGWuoU9B8",
    "outputId": "2f465684-3dfd-4e43-e58c-da255dbd7019"
   },
   "outputs": [
    {
     "data": {
      "application/vnd.jupyter.widget-view+json": {
       "model_id": "e179cc800f074887b3bd96d659abc9c8",
       "version_major": 2,
       "version_minor": 0
      },
      "text/plain": [
       "interactive(children=(IntSlider(value=0, description='E_rev_L', max=3, min=-3), IntSlider(value=-2, descriptio…"
      ]
     },
     "metadata": {},
     "output_type": "display_data"
    }
   ],
   "source": [
    "# change the value a = ..\n",
    "# a = -2\n",
    "\n",
    "@ipywidgets.interact(E_rev_L=(-3, 3), \n",
    "                     αNa=(-3, 3), voff_Na=(-3, 3), τNa=(-3,3))\n",
    "def NaL_plot(E_rev_L=0, αNa=-2, voff_Na=0, τNa=0):\n",
    "\n",
    "    # update parameters\n",
    "    R.E_rev = E_rev_L\n",
    "    i1.a = αNa\n",
    "    # i1.update_a(a)\n",
    "    i1.voff = voff_Na\n",
    "    i1.tau = τNa # note: changing tau doesn't affect the steady state response\n",
    "\n",
    "    I = neuron.IV_ss(V) # this is the composite response\n",
    "\n",
    "    fig, ax = plt.subplots()\n",
    "    \n",
    "    # Also plot contributing currents from individual elements:\n",
    "    I_L = R.out(V)\n",
    "    ax.plot(V, I_L, 'r:', label='$I_{L}$')\n",
    "\n",
    "    I_Na = i1.out(V)\n",
    "    ax.plot(V, I_Na, 'g:', label='$I_{Na}$')\n",
    "    \n",
    "    plot_IV(I, V, ax, append_title=': Neuron steady-state IV curve')"
   ]
  },
  {
   "cell_type": "markdown",
   "id": "eApMWPEhU9B8",
   "metadata": {
    "id": "eApMWPEhU9B8"
   },
   "source": [
    "If the IV characteristic has the \"N-shape\" the system will be bistable and we have created a *switch*: the circuit will remember its state even after the transient input is gone. Let us test this behavior by injecting a series of current pulses:"
   ]
  },
  {
   "cell_type": "code",
   "execution_count": 17,
   "id": "pEbwrum_U9B9",
   "metadata": {
    "id": "pEbwrum_U9B9"
   },
   "outputs": [
    {
     "data": {
      "image/png": "[encoded data removed]",
      "text/plain": [
       "<Figure size 432x288 with 1 Axes>"
      ]
     },
     "metadata": {
      "needs_background": "light"
     },
     "output_type": "display_data"
    },
    {
     "data": {
      "image/png": "[encoded data removed]",
      "text/plain": [
       "<Figure size 432x288 with 1 Axes>"
      ]
     },
     "metadata": {
      "needs_background": "light"
     },
     "output_type": "display_data"
    }
   ],
   "source": [
    "trange = (0, 100) # time length of simulation\n",
    "\n",
    "def pulse(t, t_start, t_length, mag):\n",
    "    I = (t>=t_start)*mag - (t>=(t_start+t_length))*mag\n",
    "    return I\n",
    "\n",
    "def i_app(t):\n",
    "    p1 = pulse(t, 10, 1, 3)\n",
    "    p2 = pulse(t, 30, 1, -3)\n",
    "    p3 = pulse(t, 60, 1, 3)\n",
    "    \n",
    "    # More pulses can be added here\n",
    "    pulses = [p1, p2, p3]\n",
    "    I = 0\n",
    "    for q in pulses:\n",
    "        I = I + q\n",
    "    return I\n",
    "\n",
    "sol = neuron.simulate(trange, i_app, max_step=1) # need to set max_step so that the pulse is not *missed*\n",
    "\n",
    "# Plot simulation\n",
    "plt.figure()\n",
    "plt.title(\"Switching behavior\")\n",
    "plt.xlabel(\"Time\")\n",
    "plt.ylabel(\"Membrane voltage\")\n",
    "plt.plot(sol.t, sol.y[0])\n",
    "\n",
    "plt.figure()\n",
    "plt.xlabel(\"Time\")\n",
    "plt.ylabel(\"Input current\")\n",
    "plt.plot(sol.t, i_app(sol.t))\n",
    "\n",
    "plt.show()"
   ]
  },
  {
   "cell_type": "markdown",
   "id": "i_GpB7ysU9B9",
   "metadata": {
    "id": "i_GpB7ysU9B9"
   },
   "source": [
    "We can play around with the pulse timings, magnitudes as well as lengths to see how they affect the switching behavior. If the negative resistance region is increased, the system has a larger energy barrier between the two stable states, so we may notice that we need to increase the pulse duration and/or magnitude in order to reliably switch the state."
   ]
  },
  {
   "cell_type": "markdown",
   "id": "OXSzOXw1U9B9",
   "metadata": {
    "id": "OXSzOXw1U9B9"
   },
   "source": [
    "## From bistable behavior to spiking\n",
    "\n",
    "Having designed a neuron with two stable states we are now missing one more component to make the circuit spiking! This component needs to emulate the slow refractory nature of the activation of the potassium current. From the dynamical systems point of view, this current essentially needs to \"automatically\" adjust the applied current, so that when the voltage jumps to a \"high\" state, the slow current *decreases* the applied current and drives the neuron back to the rest.\n",
    "\n",
    "We now introduce a slow element to our neuron in a similar way as before. Unlike the first element, this one needs to provide *positive resistance* and needs to be non-instantaneous. In order to make the element *slow*, a good rule of thumb is that the timescale needs to be at least $20$ times the membrane time-constant. Since the membrane time-constant is given by $\\tau_{m} = (RC)_{mem}$ and we have previously set both $R = 1$ and $C = 1$, we need to set $\\tau_s \\geq 20$."
   ]
  },
  {
   "cell_type": "code",
   "execution_count": null,
   "id": "dn5LewdOU9B-",
   "metadata": {
    "id": "dn5LewdOU9B-"
   },
   "outputs": [],
   "source": [
    "ts = 20\n",
    "voff = 0\n",
    "a = 1\n",
    "\n",
    "i2 = neuron.add_current(a, voff, ts)"
   ]
  },
  {
   "cell_type": "markdown",
   "id": "jovb9mXHU9B-",
   "metadata": {
    "id": "jovb9mXHU9B-"
   },
   "source": [
    "Let's now measure again the steady-state IV curve of the neuron. We can change the gain of the element and see how it changes the steady-state IV curve. Let's set the gain of the element so that the steady-state characteristic is back to a straight line:"
   ]
  },
  {
   "cell_type": "code",
   "execution_count": null,
   "id": "Z1lVvuGwU9B-",
   "metadata": {
    "id": "Z1lVvuGwU9B-"
   },
   "outputs": [],
   "source": [
    "a = 2 # set the gain\n",
    "i2.update_a(a)\n",
    "\n",
    "V = np.arange(-3, 3, 0.1)\n",
    "I = neuron.IV_ss(V)\n",
    "\n",
    "plt.figure()\n",
    "plt.title(\"Neuron steady-state IV curve\")\n",
    "plt.xlabel(\"Voltage\")\n",
    "plt.ylabel(\"Current\")\n",
    "plt.plot(V, I)\n",
    "plt.show()"
   ]
  },
  {
   "cell_type": "markdown",
   "id": "D4Tif_cmU9B_",
   "metadata": {
    "id": "D4Tif_cmU9B_"
   },
   "source": [
    "The neuron's steady-state IV curve is again that of a positive resistor! But, importantly, the neuron does not act like a simple resistor anymore because of the *fast* nature of the negative resistor - in the fast timescale, the circuit is still a bistable switch. We can see this by plotting IV curves in *different* timescales. We define these IV curves as follows:\n",
    "\n",
    "$$\\mathcal{I}_x (V) = \\sum{I_j(V)}, \\quad for \\ all \\ \\tau_j \\leq \\tau_x$$\n",
    "\n",
    "This formula has a simple interpreation: if we want to plot the IV curve of the circuit in the timescale given by $\\tau_x$, then we just need to sum up the steady-state characteristics of all elements acting in this timescale or *faster*.\n",
    "\n",
    "To check the fast IV curve, we set the $\\tau_f = 0$ and call the `IV` method:"
   ]
  },
  {
   "cell_type": "code",
   "execution_count": null,
   "id": "NtmPjJy1U9B_",
   "metadata": {
    "id": "NtmPjJy1U9B_"
   },
   "outputs": [],
   "source": [
    "tf = 0 # set the timescale\n",
    "V = np.arange(-3, 3, 0.1)\n",
    "I = neuron.IV(V, tf)\n",
    "\n",
    "plt.figure()\n",
    "plt.title(\"Fast IV curve\")\n",
    "plt.xlabel(\"Voltage\")\n",
    "plt.ylabel(\"Current\")\n",
    "plt.plot(V, I)\n",
    "plt.show()"
   ]
  },
  {
   "cell_type": "markdown",
   "id": "XYkBa97-U9CA",
   "metadata": {
    "id": "XYkBa97-U9CA"
   },
   "source": [
    "We can also observe what happens when we change `tf` in the previous code. From the equation, we expect that the IV curve plot will only change if we set `tf` to be larger than the timescale of the slow element. In this case, we would get the same output as if we directly measured the steady-state IV curve through `IV_ss` method."
   ]
  },
  {
   "cell_type": "markdown",
   "id": "bB8QWUP4U9CA",
   "metadata": {
    "id": "bB8QWUP4U9CA"
   },
   "source": [
    "The combination of the N-shaped fast IV curve, and the monotonically increasing slow IV curve means that the neuron will be spiking for a certain range of input currents:"
   ]
  },
  {
   "cell_type": "code",
   "execution_count": null,
   "id": "9y5a1jHRU9CA",
   "metadata": {
    "id": "9y5a1jHRU9CA"
   },
   "outputs": [],
   "source": [
    "trange = (0, 300) # time length of simulation\n",
    "I0 = -0.7\n",
    "i_app = lambda t: I0# Iapp(t)\n",
    "\n",
    "sol = neuron.simulate(trange, i_app) # call neuron's simulate functionality\n",
    "\n",
    "# Plot simulation\n",
    "plt.figure()\n",
    "plt.title(\"Spiking behavior\")\n",
    "plt.xlabel(\"Time\")\n",
    "plt.ylabel(\"Membrane voltage\")\n",
    "plt.plot(sol.t, sol.y[0])\n",
    "plt.show()"
   ]
  },
  {
   "cell_type": "markdown",
   "id": "XyzLLsCNU9CA",
   "metadata": {
    "id": "XyzLLsCNU9CA"
   },
   "source": [
    "We can play around with the value of $I_0$ to see how it affects the neuronal behavior. For a small enough input current, the neuron will stop spiking and be at rest. It is however still *excitable* and a short excitatory pulse can generate a spike. We can try different values of $I_0$ and pulse parameters to see when we get a spike at the output:"
   ]
  },
  {
   "cell_type": "code",
   "execution_count": null,
   "id": "9cMEOQYAU9CB",
   "metadata": {
    "id": "9cMEOQYAU9CB"
   },
   "outputs": [],
   "source": [
    "trange = (0, 300) # time length of simulation\n",
    "\n",
    "def pulse(t, t_start, t_length, mag):\n",
    "    I = (t>=t_start)*mag - (t>=(t_start+t_length))*mag\n",
    "    return I\n",
    "\n",
    "def i_app(t):\n",
    "    p1 = pulse(t, 150, 2, 0.3)\n",
    "    \n",
    "    pulses = [p1]\n",
    "    I = -1\n",
    "    for q in pulses:\n",
    "        I = I + q\n",
    "    return I\n",
    "\n",
    "sol = neuron.simulate(trange, i_app, max_step=1) # need to set max_step so that the pulse is not *missed*\n",
    "\n",
    "# Plot simulation\n",
    "plt.figure()\n",
    "plt.title(\"Spike output\")\n",
    "plt.xlabel(\"Time\")\n",
    "plt.ylabel(\"Membrane voltage\")\n",
    "plt.plot(sol.t, sol.y[0])\n",
    "\n",
    "plt.figure()\n",
    "plt.xlabel(\"Time\")\n",
    "plt.ylabel(\"Input current\")\n",
    "plt.plot(sol.t, i_app(sol.t))\n",
    "\n",
    "plt.show()"
   ]
  },
  {
   "cell_type": "markdown",
   "id": "-adpX3qiU9CB",
   "metadata": {
    "id": "-adpX3qiU9CB"
   },
   "source": [
    "## Creating rest-spike bistability\n",
    "\n",
    "We have so far seen how a spiking neuron can be created through the interconnection of a fast negative resistance element, and a slow positive resistance element. These elements replicate the fast excitatory nature of the sodium current, as well as the slower refractory mechanisms of the potassium activation and sodium inactivation.\n",
    "\n",
    "We will now see how introducing slower currents into the mix allows the neuron to modulate its spiking behavior so that it experiences more complex dynamical phenomena, such as bistability between resting and spiking, and bursting. These currents are usually dependent on calcium ions in biophyiscal neurons, and tend to act on timescales significantly slower than the processes controlling the excitability of the cell.\n",
    "\n",
    "We start with designing rest-spike bistability as it is a precursor to designing bursting behavior, very much how creating a bistable switch was the first step to generating spike outputs.\n",
    "\n",
    "Let us add another element to the circuit - this time it will be a slow *negative* resistance element! Importantly, this time we will need to change the $V_{off}$ parameter of the element to be non-zero, as the slower calcium-dependent currents activate in lower voltage ranges than the previously considered sodium and potassium currents."
   ]
  },
  {
   "cell_type": "code",
   "execution_count": null,
   "id": "-qrLcbeuU9CB",
   "metadata": {
    "id": "-qrLcbeuU9CB"
   },
   "outputs": [],
   "source": [
    "ts = 20\n",
    "voff = -0.9\n",
    "a = -1.5\n",
    "\n",
    "i3 = neuron.add_current(a, voff, ts)"
   ]
  },
  {
   "cell_type": "markdown",
   "id": "OLbWuIjbU9CC",
   "metadata": {
    "id": "OLbWuIjbU9CC"
   },
   "source": [
    "Let's see how the addition of this element has changed the steady-state IV curve - remember, as the element is slow, it will not affect the fast IV curve, which we also plot for reference. You can change the element's gain and offset values to shape the steady-state IV curve."
   ]
  },
  {
   "cell_type": "code",
   "execution_count": null,
   "id": "q3CwRg_kU9CC",
   "metadata": {
    "id": "q3CwRg_kU9CC"
   },
   "outputs": [],
   "source": [
    "# Change the gain and the offset of the slow negative resistance element\n",
    "#i3.update_a(-1.5)\n",
    "#i3.update_voff(-0.9)\n",
    "\n",
    "tf = 0 # set the timescale\n",
    "V = np.arange(-3, 3, 0.1)\n",
    "If = neuron.IV(V, tf)\n",
    "\n",
    "Iss = neuron.IV_ss(V)\n",
    "\n",
    "plt.figure()\n",
    "plt.title(\"Fast IV curve\")\n",
    "plt.xlabel(\"Voltage\")\n",
    "plt.ylabel(\"Current\")\n",
    "plt.plot(V, If)\n",
    "plt.show()\n",
    "\n",
    "plt.figure()\n",
    "plt.title(\"Steady-state IV curve\")\n",
    "plt.xlabel(\"Voltage\")\n",
    "plt.ylabel(\"Current\")\n",
    "plt.plot(V, Iss)\n",
    "plt.show()"
   ]
  },
  {
   "cell_type": "markdown",
   "id": "QRGzRlmZU9CC",
   "metadata": {
    "id": "QRGzRlmZU9CC"
   },
   "source": [
    "Previously, when we had an \"N-shaped\" steady-state IV curve the neuron was bistable, and we were able to switch between the high \"up\" state and the low \"down\" state by injecting a series of current pulses.\n",
    "\n",
    "We now have the same picture, but with an important difference - the high \"up\" state now belongs to the negative resistance region of the fast IV curve, i.e. the high \"up\" state is now a spiking state!\n",
    "\n",
    "Let's test this behavior by again injecting a series of pulses and switching the system between the resting and spiking states. This time we will need to use longer pulses, as the circuit operates on the *slow* timescale, compared to the *fast* timescale of our simple bistable neuron."
   ]
  },
  {
   "cell_type": "code",
   "execution_count": null,
   "id": "zXO51SKwU9CD",
   "metadata": {
    "id": "zXO51SKwU9CD"
   },
   "outputs": [],
   "source": [
    "trange = (0, 3000) # time length of simulation\n",
    "\n",
    "def pulse(t, t_start, t_length, mag):\n",
    "    I = (t>=t_start)*mag - (t>=(t_start+t_length))*mag\n",
    "    return I\n",
    "\n",
    "def i_app(t):\n",
    "    p1 = pulse(t, 800, 20, -1)\n",
    "    p2 = pulse(t, 1600, 20, 1)\n",
    "    p3 = pulse(t, 2400, 20, -1)\n",
    "    \n",
    "    # add more pulses\n",
    "    pulses = [p1, p2, p3]\n",
    "    I = -0.8 # this current needs to be in the *bistable* region\n",
    "    for q in pulses:\n",
    "        I = I + q\n",
    "    return I\n",
    "\n",
    "sol = neuron.simulate(trange, i_app, max_step=1) # need to set max_step so that the pulse is not *missed*\n",
    "\n",
    "# Plot simulation\n",
    "plt.figure()\n",
    "plt.title(\"Switching behavior\")\n",
    "plt.xlabel(\"Time\")\n",
    "plt.ylabel(\"Membrane voltage\")\n",
    "plt.plot(sol.t, sol.y[0])\n",
    "\n",
    "plt.figure()\n",
    "plt.xlabel(\"Time\")\n",
    "plt.ylabel(\"Input current\")\n",
    "plt.plot(sol.t, i_app(sol.t))\n",
    "\n",
    "plt.show()"
   ]
  },
  {
   "cell_type": "markdown",
   "id": "zC1-cqYaU9CD",
   "metadata": {
    "id": "zC1-cqYaU9CD"
   },
   "source": [
    "We can play around with the gain and offset parameters of the slow negative resistance element and see how it affects the steady-state IV curve and correspondingly the switching behavior."
   ]
  },
  {
   "cell_type": "markdown",
   "id": "hZcNHWWVU9CD",
   "metadata": {
    "id": "hZcNHWWVU9CD"
   },
   "source": [
    "## Bursting\n",
    "\n",
    "We will now turn the rest-spike bistable neuron into a burster. We can achieve this again by following the same procedure as when going from a bistable to a spiking neuron: we need to introduce a slower current that will \"automatically\" modulate the current so that when neuron is in the resting state, the current increases and leads to spiking, and when the neuron is in the spiking state, the current decreases and terminates the burst.\n",
    "\n",
    "We will call the timescale of this element *ultra-slow* as it needs to be significantly slower than the processes introduced so far. Let's define this element now:"
   ]
  },
  {
   "cell_type": "code",
   "execution_count": null,
   "id": "T0sztdhzU9CE",
   "metadata": {
    "id": "T0sztdhzU9CE"
   },
   "outputs": [],
   "source": [
    "tus = ts**2\n",
    "voff = -0.9\n",
    "a = 1.5\n",
    "\n",
    "i4 = neuron.add_current(a, voff, tus)"
   ]
  },
  {
   "cell_type": "markdown",
   "id": "hLpdPOTYU9CE",
   "metadata": {
    "id": "hLpdPOTYU9CE"
   },
   "source": [
    "Let's measure the neuron's IV curves again. This time, there will be three IV curves of interest: fast, slow, and the steady-state (ultra-slow) IV curve."
   ]
  },
  {
   "cell_type": "code",
   "execution_count": null,
   "id": "dxyHtGBoU9CE",
   "metadata": {
    "id": "dxyHtGBoU9CE"
   },
   "outputs": [],
   "source": [
    "tf = 0 # set the timescale\n",
    "ts = 20\n",
    "\n",
    "V = np.arange(-3, 3, 0.1)\n",
    "\n",
    "If = neuron.IV(V, tf)\n",
    "Is = neuron.IV(V, ts)\n",
    "Iss = neuron.IV_ss(V)\n",
    "\n",
    "plt.figure()\n",
    "plt.title(\"Fast IV curve\")\n",
    "plt.xlabel(\"Voltage\")\n",
    "plt.ylabel(\"Current\")\n",
    "plt.plot(V, If)\n",
    "plt.show()\n",
    "\n",
    "plt.figure()\n",
    "plt.title(\"Slow IV curve\")\n",
    "plt.xlabel(\"Voltage\")\n",
    "plt.ylabel(\"Current\")\n",
    "plt.plot(V, Is)\n",
    "plt.show()\n",
    "\n",
    "plt.figure()\n",
    "plt.title(\"Steady-state IV curve\")\n",
    "plt.xlabel(\"Voltage\")\n",
    "plt.ylabel(\"Current\")\n",
    "plt.plot(V, Iss)\n",
    "plt.show()"
   ]
  },
  {
   "cell_type": "markdown",
   "id": "ZyvBw0jGU9CE",
   "metadata": {
    "id": "ZyvBw0jGU9CE"
   },
   "source": [
    "When the input current is in the right range, the neuron will now burst!"
   ]
  },
  {
   "cell_type": "code",
   "execution_count": null,
   "id": "fj6IejngU9CF",
   "metadata": {
    "id": "fj6IejngU9CF"
   },
   "outputs": [],
   "source": [
    "trange = (0, 2000) # time length of simulation\n",
    "I0 = -1\n",
    "i_app = lambda t: I0# Iapp(t)\n",
    "\n",
    "sol = neuron.simulate(trange, i_app) # call neuron's simulate functionality\n",
    "\n",
    "# Plot simulation\n",
    "plt.figure()\n",
    "plt.title(\"Bursting behavior\")\n",
    "plt.xlabel(\"Time\")\n",
    "plt.ylabel(\"Membrane voltage\")\n",
    "plt.plot(sol.t, sol.y[0])\n",
    "plt.show()"
   ]
  },
  {
   "cell_type": "markdown",
   "id": "GDv4DdE-U9CF",
   "metadata": {
    "id": "GDv4DdE-U9CF"
   },
   "source": [
    "We can again try changing the applied current $I_0$ to observe the different spiking regimes of the neuron. You should notice that for low currents the neuron is at rest, but above a certain threshold the neuron starts bursting. Increasing the current further eventually terminates the bursts and leads to regular spiking, before again reaching a high resting state for a large enough input current."
   ]
  },
  {
   "cell_type": "markdown",
   "id": "8hi4rDPFU9CF",
   "metadata": {
    "id": "8hi4rDPFU9CF"
   },
   "source": [
    "## Graphical interface with live plotting\n",
    "\n",
    "If you would like to explore further how changing the parameters modulates the behavior with a live neuron simulation, there is additional code that can be found at the following GitHub page [Circuit-Neuromodulation](https://github.com/lukaribar/Circuit-Neuromodulation).\n",
    "\n",
    "The script `gui.py` genereates a graphical interface for controlling the gain and offset values for the elements discussed here, and you can observe the different behaviors that can be achieved by exploring the different parameter combinations. Mainly, you should observe how changing each parameter affects the IV curves of the circuit, which in turn capture the main excitability properties of the circuit."
   ]
  }
 ],
 "metadata": {
  "colab": {
   "include_colab_link": true,
   "provenance": []
  },
  "kernelspec": {
   "display_name": "Python 3 (ipykernel)",
   "language": "python",
   "name": "python3"
  },
  "language_info": {
   "codemirror_mode": {
    "name": "ipython",
    "version": 3
   },
   "file_extension": ".py",
   "mimetype": "text/x-python",
   "name": "python",
   "nbconvert_exporter": "python",
   "pygments_lexer": "ipython3",
   "version": "3.9.12"
  },
  "widgets": {
   "application/vnd.jupyter.widget-state+json": {
    "0ff22bc91aa64e8fa38a204d3943a3f3": {
     "model_module": "@jupyter-widgets/controls",
     "model_module_version": "1.5.0",
     "model_name": "SliderStyleModel",
     "state": {
      "_model_module": "@jupyter-widgets/controls",
      "_model_module_version": "1.5.0",
      "_model_name": "SliderStyleModel",
      "_view_count": null,
      "_view_module": "@jupyter-widgets/base",
      "_view_module_version": "1.2.0",
      "_view_name": "StyleView",
      "description_width": "",
      "handle_color": null
     }
    },
    "1b5a783fad4b4ba791910d0bb1a11a01": {
     "model_module": "@jupyter-widgets/controls",
     "model_module_version": "1.5.0",
     "model_name": "VBoxModel",
     "state": {
      "_dom_classes": [
       "widget-interact"
      ],
      "_model_module": "@jupyter-widgets/controls",
      "_model_module_version": "1.5.0",
      "_model_name": "VBoxModel",
      "_view_count": null,
      "_view_module": "@jupyter-widgets/controls",
      "_view_module_version": "1.5.0",
      "_view_name": "VBoxView",
      "box_style": "",
      "children": [
       "IPY_MODEL_8478cb1aa49b4f6f9b517912dd16f6f7",
       "IPY_MODEL_842ce73ff2c4479bae8e09fab07dca19",
       "IPY_MODEL_600ecbef82114240abd12bbc60808b15",
       "IPY_MODEL_aee29567c7ed4039b14c60a8915abfce"
      ],
      "layout": "IPY_MODEL_dfbec3d445984fcca868147520d3b5f1"
     }
    },
    "23a55501de7a4c0b8374e637c60d66c6": {
     "model_module": "@jupyter-widgets/controls",
     "model_module_version": "1.5.0",
     "model_name": "IntSliderModel",
     "state": {
      "_dom_classes": [],
      "_model_module": "@jupyter-widgets/controls",
      "_model_module_version": "1.5.0",
      "_model_name": "IntSliderModel",
      "_view_count": null,
      "_view_module": "@jupyter-widgets/controls",
      "_view_module_version": "1.5.0",
      "_view_name": "IntSliderView",
      "continuous_update": true,
      "description": "αNa",
      "description_tooltip": null,
      "disabled": false,
      "layout": "IPY_MODEL_3f3a6f9d618143e0af93825fb92829b5",
      "max": 3,
      "min": -3,
      "orientation": "horizontal",
      "readout": true,
      "readout_format": "d",
      "step": 1,
      "style": "IPY_MODEL_f568d0022dfc435abfc98ab72d3ba79a",
      "value": -2
     }
    },
    "2c5b3a3853794901b3dc25091ccf3b59": {
     "model_module": "@jupyter-widgets/controls",
     "model_module_version": "1.5.0",
     "model_name": "SliderStyleModel",
     "state": {
      "_model_module": "@jupyter-widgets/controls",
      "_model_module_version": "1.5.0",
      "_model_name": "SliderStyleModel",
      "_view_count": null,
      "_view_module": "@jupyter-widgets/base",
      "_view_module_version": "1.2.0",
      "_view_name": "StyleView",
      "description_width": "",
      "handle_color": null
     }
    },
    "2e8dff6f95c84693afac13908663e274": {
     "model_module": "@jupyter-widgets/controls",
     "model_module_version": "1.5.0",
     "model_name": "SliderStyleModel",
     "state": {
      "_model_module": "@jupyter-widgets/controls",
      "_model_module_version": "1.5.0",
      "_model_name": "SliderStyleModel",
      "_view_count": null,
      "_view_module": "@jupyter-widgets/base",
      "_view_module_version": "1.2.0",
      "_view_name": "StyleView",
      "description_width": "",
      "handle_color": null
     }
    },
    "32dcf89c82c94b908c1da958c208a8c0": {
     "model_module": "@jupyter-widgets/output",
     "model_module_version": "1.0.0",
     "model_name": "OutputModel",
     "state": {
      "_dom_classes": [],
      "_model_module": "@jupyter-widgets/output",
      "_model_module_version": "1.0.0",
      "_model_name": "OutputModel",
      "_view_count": null,
      "_view_module": "@jupyter-widgets/output",
      "_view_module_version": "1.0.0",
      "_view_name": "OutputView",
      "layout": "IPY_MODEL_77c42ab74f9946b1a29a05c38533d9db",
      "msg_id": "",
      "outputs": [
       {
        "data": {
         "image/png": "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\n",
         "text/plain": "<Figure size 432x288 with 1 Axes>"
        },
        "metadata": {
         "needs_background": "light"
        },
        "output_type": "display_data"
       },
       {
        "data": {
         "image/png": "iVBORw0KGgoAAAANSUhEUgAAAasAAAEWCAYAAADYRbjGAAAABHNCSVQICAgIfAhkiAAAAAlwSFlzAAALEgAACxIB0t1+/AAAADh0RVh0U29mdHdhcmUAbWF0cGxvdGxpYiB2ZXJzaW9uMy4yLjIsIGh0dHA6Ly9tYXRwbG90bGliLm9yZy+WH4yJAAAgAElEQVR4nO3de3xdVZn/8c+3SUtLKBYp17TQApW7AkIRuVhFmQIKDjII6gwgyijiZeQ3I4qjWO+3cURR7AiijsDgjekgBFQINwG5yK2QQKiFUii3lhba2pyc8/z+2DvtaXqSnJOcy07yfb9eeWXvffZe+zknyXqy1157LUUEZmZmWTau0QGYmZkNxsnKzMwyz8nKzMwyz8nKzMwyz8nKzMwyz8nKzMwyz8nKhkTSK5J2aXQc1SLpNEm3NjoOMyvNyWoUkbRY0to0kTwr6VJJW9TiXBGxRUQsqkXZVj5JIWm3RsdhVmtOVqPPOyJiC+AA4EDgsw2OZ9RRYsz97UhqbnQMNnaNuT+4sSIilgLXAvtI2krS1ZKel7QiXZ7Wu2/aBLZI0suS/irpven23STdJGmlpBck/U/RMZG+frCkZZKail77e0kPpMvjJJ0r6XFJL0q6UtKrS8UsaY6kpyT9m6TnJD0j6Z2SjpH0qKTlkj5TtH+/ZUuakcZ4uqQl6fv+kKSDJD0g6SVJ3980BH0/fb8dko4seqFd0pcl3QasAXZJy34k/dwWSfrnEu/lnKL3cnrR65tJ+pakJ9Or4IskTerncyn5c5B0c7rL/enV9LvT7W+XdF/6Hv8k6bVFZS2W9GlJD6efyU8kTeznvKdJuk3SdyS9CJw/UNySpqa/Wy+lP6tbepP6YOeV9EFJXelxCyTtWPRapD+7x9KyL5SkgT6b9LU9JP0+LbNT0kml3qeNEBHhr1HyBSwG3pouTwcWAl8EtgbeBWwOTAZ+CVyV7tcCrAJ2T9d3APZOly8HziP5p2YicFjRuQLYLV1+HHhb0Wu/BM5Nlz8O3AFMAzYDfgRc3k/8c4Ae4HPAeOCDwPPAZWncewNrgZmDlQ3MSGO8KI39KOBvwFXAtkAr8BzwpnT/09Jz/0t67ncDK4FXp6+3A0+mMTSn+xwL7AoIeBNJEjugz3uZl+57TPr6Vunr3wEWAK9O39v/AV/t53Mp6+eQru+fvq+DgSbg1PT3YrOi35GHSH4/Xg3cBnypn/P2fiYfTd/zpIHiBr6aft7j06/DAQ12XuAtwAskrQGbAd8Dbu7zHq8GpgA7kfxOzB3osyH5vV4CnJ7Gvn96jr0a/XfqryHWb40OwF9V/GEmFcIrwEvAE8APgEkl9tsPWJEut6T7v6vvvsDPgPnAtBJlFCerLwGXpMuTgdXAzun6I8CRRcftAOSA5hJlziFJRk1FZQVwcNE+9wDvHKxsNiSr1qLXXwTeXbT+a+AT6fJpwNO9lWu67c/AP6bL7cC8QT7/q4CP93kvzUWvPwe8gSS5rQZ2LXrtEOCv/ZRb1s8hXf8h8MU++3SyISkvBj5U9NoxwOP9nPc04Mmi9QHjJknM/1scT5/fzZLnBS4GvlH02hbpz3FG0XssTtBXsuGfoZKfDck/G7f02fYj4PON+vv01/C+3Aw4+rwzIqZExM4RcVZErJW0uaQfSXpC0irgZmCKpKaIWE3yh/0h4BlJv5O0R1rWv5FUUH+WtFDS+/s552XACZI2A04A7o2IJ9LXdgZ+mzbfvESSYPLAdv2U9WJE5NPlten3Z4teX0tSmZVbdt9j+ysLYGmktVrqCWDHovUlxYFKOlrSHWkz00skFfDUPu+lp2h9TXq+bUiucu8pir0t3V5KuT8HSD6Tc3rLTcuePsD76Pse+yred7C4vwl0AdenzaLnDlBW8Xl3TNcBiIhXSP6xaC3af1nRcu/nCP1/NjsDB/f5HN4LbD/Ae7UM8w3TseEcYHeSK5RlkvYD/kLyR05EXAdcl957+BLwX8DhEbGMpCkOSYcBf5B0c0R0FRceEQ9LegI4GngPSfLqtQR4f0TcVoP31W/ZkmYMobxWSSpKWDuRNHn1Wp/I0sT8a+CfgP+NiJykq0g/00G8QJIo947k3uKAyv05pJYAX46ILw9Q5PSi5Z1Irij7PX25cUfEyyS/a+dI2ge4QdJdEfHHQc77NElyAUBSC0nT9ZA/G5LP4aaIeNtgZdjI4CursWEySSXzkpIOCJ/vfUHSdpKOTyuIdSTNiIX0tX/Qho4YK0gqrkI/57iM5B7SEST3rHpdBHxZ0s5pmdtIOr5K76vaZW8LfEzSeEn/AOwJXNPPvhNI7q88D/RIOprkvtigIqJA8g/BdyRtm8beKunvSu0/yM/hWaD4ebf/Aj6kpOOLJLVIOlbS5KJ9PiJpWvq7cB7wP5RhsLiVdOzYLe38sJLkKrf496W/814OnC5pv/SfgK8Ad0bE4sFiGuCzuRp4jaR/TH+e45V0rtmznPdq2eNkNTb8J8nN8RdIOiS0Fb02DvgkyX+3y0k6Cnw4fe0g4E5Jr5BcYXw8+n+26vL02Bsi4oWi7d9Nj71e0svp+Q+uxpuqQdl3ArNIPqcvAydGxIuldkyvIj5Gcv9kBckV5YJS+/bjUyRNZnekTbN/ILn6LWWgn8P5wE/Tpq6TIuJukiuN76dxdZHceyp2GXA9sIikc8yXqhT3rHT9FeB24AcRceNg542IPwD/TnKl+gxJp5WTy4yn5GeT/nyOSst5mqQZ8esk/2DYCKTYqInezEYzSYuBD6QJYtSf10YPX1mZmVnmOVmZmVnmuRnQzMwyz1dWZmaWeSP+Oatx48bFpEklh1QzM7N+rFmzJiJixFywjPhkNWnSJFavXt3oMMzMRhRJawffKztGTFY1M7Oxy8nKzMwyz8nKzMwyz8nKzMwyz8nKzMwyr67JStIlSqb4fqif1yXpAiXTWz8g6YB6xmdmZinpEqTn6Ke+RhLSBUhdSA9Q4/q63ldWlwJzB3j9aJKRm2cBZ5LMempmZvV3KRmqr+v6nFVE3DzIpHjHAz9LJ7+7Q9IUSTtExDN1CdAyZ11PnktvW8zqdT2D72wjXwTj8j00r1tHc/ffaOpet365uXsd4/I9qFBA6TBxKhQgAhGoEEAkrxUKiIAARbp/BIpCuq13OdLl5PXefYrLT5bT8tefq1B0rkjPlWxPZzTdqPzkvW14m+pdKRruThsNfRebbtto3/T7jjtw8Dc/O+yPvaSImymjviatr5GmIO1AjerrrD0U3MrGU18/lW7b6M1LOpMkk9Pa2kp7e3u94rM6W70uT/cLrzC+0YGMUSrk2Wz1apq6u2nO5WjOraO5u5umXI7m7m6au9dtupzrTvfpTreXWF6/T47m7nU053LJObq7GRf9ze9pxULixRm70H7sYUMtolnS3UXr8yNifgXHl1VfV0vWklVZ0g90PkBLS0vMmTOnsQFZzbR3Pse3b7yL35z1Rg7YaatGhzN6rVwJnZ2bfj36KKxbV3l548bBpEkwcWLyvXh5q8mbbutvue+28eOTsqUN37O+3PsFG74XL5fa1t/rRQRMBeZU/tPp1RMRBw798PrKWrJaCkwvWp+WbrMxKpdP2jsmNLnj6rD19MDixRsno46O5Puzz27Yr6kJdtkFdt8djjoKpk+HzTevPKn0U8naqFHX+jpryWoBcLakK0imJ1/p+1VjW3dP0iQ03smqfMuXb5qMOjuhqwtyuQ37bb11kpCOOQb22CNZ3n33JFFNmNC4+G2kWACcTVF9Xav7VVDnZCXpcpKr1qmSngI+D8ntiIi4CLgGOAboAtYAp9czPsueXL43Wfm/9I3kcvD446Wb7l54YcN+48fDrrsmyei44zYkpN13T5KVWX+K6mv61Nc0oL6ud2/AUwZ5PYCP1CkcGwG6876yWu+ZZ+CrX4XrroNFi5JmvV7bbpskpL//+40T0syZ0Jy1BhQbEQapr6lzfe3fYsu03iurCc1jOFmtWAHf+AZ897vJFdWxx8KJJ26clKZMaXSUZjXlZGWZlhvL96zWrIELLoCvfx1eeglOOQXmzYPddmt0ZGZ1NwZrABtJensDjql7Vrkc/PCHSVL69Kfh0EPhvvvgssucqGzM8pWVZVr3WGoGLBTg8svhc59L7kkddhhceWXy3WyMGwM1gI1k63sDjhvFv6oRcPXVsP/+8L73weTJ8Lvfwc03O1GZpUZxDWCjQXdPgeZxYty4UdoMeMstcPjh8I53wOrVSVPfvfcmzz75oVqz9ZysLNNy+cLo7Fxx331JQjriiKTJ76KL4JFHkk4Uo/kq0myI/FdhmZbLx+jqXPHYY0lC2n9/uOOOpKdfVxf88z8nD/CaWUnuYGGZ1p0vjI7OFUuXJt3OL74YNtsMPvMZ+Nd/9fNRZmVysrJMy/WM8GbA5cvha1+D730P8nn48IfhvPNg++0bHZnZiOJkZZk2Yu9ZvfJKMuLEN78Jq1Ylvfy+8IVk+CMzq5iTlWVaLh8jrxnwkkuSh3mfew6OPx6+9CXYZ59GR2U2ojlZWaZ1j7Qrq+uvhzPOSJ6PuuoqOOSQRkdkNio4WVmmdfcUmDBSegO+9FKSqPbYI0lakyY1OiKzUcPJyjJtRN2z+uQn4emn4fbbnajMqmyE1AI2Vo2YZHX11fCTn8CnPgWzZzc6GrNRZwTUAjaWdeeD8VnvYLF8OXzwg7DvvvD5zzc6GrNRyc2Almm5kXDP6qMfTaaSv+aa5IFfM6u6jP/LamNd5psBf/ObZPDZz342GULJzGoiw7WAWZKsMvuc1fPPw4c+lCSpz3ym0dGYjWpuBrRMSwayzWCyioCzzkq6q//xjx6E1qzGnKws09ZldWzAK6+EX/0KvvKVpGOFmdVUBmsBsw1y+Qx2sFi2LLmqmj07GTndzGrOycoyLXMdLCKSuadWr4ZLL4VmN06Y1YP/0izTcvlCtp6z+vnPYcEC+Na3YM89Gx2N2ZiRoVrAbGMRka0OFkuXwsc+BoceCp/4RKOjMRtTMlILmG0qlw+AbNyzioAPfAC6u5Pmv6amRkdkNqa4GdAyK5cvAGTjOauLL4a2NrjgAthtt0ZHYzbmZKAWMCutN1k1vBnwiSeSEdXf/Gb4yEcaG4vZGOVkZZnVnYVkVSjA+9+fNANecgmM85+MWSO4GdAyq7snbQZsZLK66CK44Qb40Y9gxozGxWE2xtW1FpA0V1KnpC5J55Z4fSdJN0r6i6QHJB1Tz/gsW3o7WIxvblAHi8cfTx76PeqoZAoQs7FGmovUidRFiTobaSekG5H+gvQANayz65asJDUBFwJHA3sBp0jaq89unwWujIj9gZOBH9QrPsueht6zKhTg9NOTh35//GNQBnokmtVTiTqbfups6lBn17MWmA10RcSiiOgGrgCO77NPAFumy68Cnq5jfJYxvc2ADUlWF1wAt9wC3/0uTJ9e//ObNd5soIuIRWSgzq7nPatWYEnR+lPAwX32OR+4XtJHgRbgraUKknQmcCZAa2sr7e3t1Y7VMmBtd55z9u2he8lDtD/fUbfzTnrySQ781KdYccghPLTzzuDfLxudmiXdXbQ+PyLmF62XXWczSJ1dDVnrYHEKcGlEfFvSIcDPJe0TEYXindIPdD5AS0tLzJkzp/6RWs39+a/L+fANt/PfZ+zHYbOm1uek+Twcdhi0tDD1179mzg471Oe8ZvXXExEHDrOMU4BLifg2aZ2NtA996uxqqGeyWgoUt6dMS7cVOwOYCxARt0uaCEwFnqtLhJYpDXko+NvfhjvugF/8ApyobGyrqM4m4nZqWGfX82bAXcAsSTMlTSC5Gbegzz5PAkcCSNoTmAg8X8cYLUM2PGdVp84NCxfCv/87nHACnHJKfc5pll13AbOQZlJGnU2N6+y6JauI6AHOBq4DHiHp9bdQ0jxJx6W7nQN8UNL9wOXAaRER9YrRsqWuHSxyOTj1VNhyS/jhD937z6xEnU3EQqR59KmzKaqzqVGdXdd7VhFxDXBNn22fK1p+GDi0njFZdtW1GfBrX4N77oFf/hK23bb25zMbCUrU2RTV2dSxzvbYMZZZdXvOatEimDcPTj4ZTjyxtucysyFxsrLMyvWkI1jU+p7VVVdBTw989au1PY+ZDZmTlWVWbweLmo8N2NaWzPrrsf/MMsvJyjKrLs2Aq1fDTTfB3Lm1O4eZDZuTlWVWXTpY3HRTMvuvk5VZpjlZWWatH3W9lldWbW0waRIccUTtzmFmw+ZkZZm1rqcODwVfe20yA/DEibU7h5kNm5OVZVYuX2B8k1CtHtDt6kq+3ARolnlOVpZZuZ5CbZsAr7su+e5kZVYf0iSk3YdyqJOVZVZyZVXj+1W77AK77Va7c5hZQnoHcB/Qlq7vh9R3rMF+OVlZZnXno3bJat06uOGG5KrK4wCa1cP5JBM6vgRAxH3AzHIPdrKyzMrlC0yoVeeKW26BNWvg6KNrU76Z9ZUjYmWfbWUPejvkZCVp66Eea1aOXL5Qu2es2tpgwgTwxJ1m9bIQ6T1AE9IspO8Bfyr34CHVBJJ+DXxJ0i8kvXkoZZgNpqb3rNra4PDDYYstalO+mfX1UWBvYB3JdCKrgE+Ue/BQpwjpiIjzACRdCNw4xHLM+tVdq96AS5YkEy2edlr1yzaz0iLWAOelXxUbarKaK2k5cD+wZohlmA2oOx+Mr0UzoLusm9Wf9H9seo9qJXA38CMi/jbQ4UOtCeaSzBx5KNAq6adDLMesX7meGnWwaGuDadNg772rX7aZ9WcR8ArwX+nXKuBl4DXp+oCGdGUVEc9LujOd+desJmrSwSKXg9//Hk46yV3WzerrjUQcVLT+f0h3EXEQ0sLBDh5Ssko7WDwnaUvgxxHhe1ZWdbl8gZbNhtpS3Y877oBVq9wEaFZ/WyDtRMSTAEg7Ab09nLoHO9gdLCyzavJQcFsbNDXBkUdWt1wzG8w5wK1IjwMieSD4LKQWYNBbSe5gYZmVyxfYrNrNgG1tcMghMGVKdcs1s4FFXIM0C9gj3dJZ1KniPwc7fLgdLN6IO1hYjfSOul41zz4L997rUSvMGmcWsDvwOuAkpH8q98ChXll9iCRRPQ3cFhEXDrEcs35VfdR1d1k3axzp88AcYC/gGuBo4FbgZ+UcPtSaYGvgDuBLJFnSrOq684XqPmfV1gbbbgv77Ve9Ms2sXCcCRwLLiDid5OrqVeUePNSaYAXQBDwHLB9iGWYD6u4pMKFaV1b5PFx/Pfzd38E4j99s1gBriSgAPSQ9yZ8Dppd78FCfs/qCpB2BC4CHhlKG2WBy+ajePat77oEXX3QToFnj3I00heQB4HtIHhC+vdyDB01Wkn4IPAA8CDwQEasAIuJp4IyhRGxWjqoOZNvWljwEfNRR1SnPzCoTcVa6dBFSG7AlEQ+Ue3g5V1Z/AfYFTgb2kfQKGyevKyoM2WxQhULQU6jic1bXXgsHHQRTp1anPDOrjPRHIpIHHCMWb7JtEIMmq4iYv/H5NI0keb0WOBZwsrKqyxUKANUZbunFF+HPf4bPfnb4ZZlZZaSJwObAVKStSB4IBtgSaC23mIrvWUXEU8BTwLWVHmtWrlw+GZy5Kh0s/vAHKBR8v8qsMf6ZZN6qHYF7i7avAr5fbiF17RYlaa6kTkldks7tZ5+TJD0saaGky+oZn2VHrie5sqpKB4u2NthqK5g9e/hlmY0l0lykTqQu+qmzkU5CehhpIaXq7IjvEjET+H9EzCz6eh0RZSerKo8S2j9JTcCFwNtIrszukrQgIh4u2mcW8Gng0IhYIWnbesVn2dKdT5PVcJsBI5JkddRRyZiAZlaeEnU20gKK6myK6mwiVlCqzpZOSJeWFi1vEPGbcsIpO1lJ+npEfGqwbQOYDXRFxKL02CuA44GHi/b5IHBhRKwAiIjnyo3PRpfu9VdWw0xW998Py5a5CdCscrOBLtI6mwHqbNI6m9J19jsGOEcA1U1WJNm1b2I6usS2/rQCS4rWnwIO7rPPawAk3Uby0PH5EdHWtyBJZwJnArS2ttLe3l5mCDZSdPcUOGffHiY830F7++NDLmenyy5jF+BPkyfT7d8Ts2LNku4uWp/fp0Nd2XU2RXU2fevsZLSK4Qc72A6SPgycBewiqbhP/GTgT9UIok88s0jGj5oG3Cxp34h4qXin9AOdD9DS0hJz5sypchjWaJ3LXubMP9zMhe/Zhzmv3WHoBZ1/PrzudbzxXe+qWmxmo0RPRBw4zDI2qbOR9qVPnQ2A9Crg88AR6ZabgHlErCznROW0sVxGchm3IP3e+/X6iHhvOSdJLWXjoTWmpduKPQUsiIhcRPwVeJTkg7AxJpevQgeLVavgttvcBGg2NGXX2UTkGLzOvoRkGvuT0q9VwE/KDaac56xWAislnQ6cAMzoPU4SETGvzHPdBcySNJPkDZ8MvKfPPlcBpwA/kTSV5BJzUZnl2yjS28FiWM9Z3XAD9PR4ShCzobkLmEWZdTaD19m7ElHcxPEFpPvKDaaSmuAqkptrPcDqoq+yREQPcDZwHclcWFdGxEJJ8yQdl+52HfCipIdJZh/+14h4sYIYbZTo7bo+rOes2tpg8uRkskUzq0yJOpuIhUjz6FNnU1Rn03+dvRbpsPVr0qHA2nLDUUSUt6P0UETsU27B9dLS0hKrV5edM22EuPWxF3jfxXfyyw8dwkEzXl15AREwYwYccAD89rdVj89spJO0JiJa6njC/Uimr++dFmQFcGq54wNW0hvwT2lnhwcrDNGsYt35PDCMrusdHfDkk/CZz1QxKjMbhgeJeF06PQikg6KXq5Ka4DDg3nQEigckPdind6BZ1XT3JFf8Q+5g0Zb2nnXnCrOs+CvSfOAgko4WFankysp3qa1uensDDvmeVVsb7Lkn7LxzFaMys2HYA3g78BHgYqSrgSuIuLWcgyupCZ4EDgdOjYgnSJ483q7CYM3KsqHr+hCS1Zo1cNNNvqoyy5KINURcScQJwP4ko67fVO7hldQEPwAOIemmCMll3IUVHG9WttxwxgZsb4d165yszLJGehPSD0hmCp5I8rxVWSppBjw4Ig6Q9BeAdKDZCZVFalae7uFMEdLWBpMmwRFHDL6vmdWHtJhkMt8rSbq4V9SNu5JklUtHTo/kvNoGKFRyMrNyDes5q7Y2mDMHJk6sblBmNhyvrbQHYLFKaoILgN8C20r6MnAr8JWhnthsIBuaASvsDfj44/DYYx61wixrhpGooMwrK0kCbiZpZzySZFrid0bEI8M5uVl/hjxFyHXXJd99v8psVCkrWUVESLomIvYFOmock9n6K6vmcRVeWV17LeyyC+y2Ww2iMrNGqeTf1nslHVSzSMyKdOeDCU3jSC7qy7RuXTJ47dy5UMlxZlZ70nZIFyNdm67vhXRGuYdXkqwOBm6X9LhHsLBay+ULlY9eceutyTNWbgI0y6JLSQa+3TFdfxT4RLkHV9Ib8O8q2NdsWHL5QuXPWLW1wYQJ8OY31yYoMxuOqURcifRpIBnVXcqXe3AlHSwKEbFk0J3NqiCXL1Tebb2tDQ4/HLbYojZBmdlwrEbamvTxJ6Q3AGXNEgwVdrAA9h1KhGaV6u6JynoCLlkCDz0Ep55au6DMbDg+STLj/K5ItwHbACeWe3AlzYD3SjooIu6qMECziuXyhcpmCXaXdbNsi7gX6U3A7iSPP3USkSv38IqGWwLep2TIjNXpySIiXltBGWZlqbiDRVsbtLbC3nvXLigzG67ZwAyS3HMAEkT8rJwD3cHCMqm7p1B+M2AuB7//PZx0krusm2WV9HNgV+A+oLdjRQBVT1b93QyYV0EZZmXpzleQrO68E1atchOgWbYdCOxFRAzl4Eq6W60u+sqTTMY4YygnNRtMRb0B29qgqQmOPLK2QZnZcDwEbD/Ug8u+soqIbxevS/oWyQNeZlWXywcTx5eZrG68EWbPhilTahuUmQ3HVOBhpD8D69ZvjTiunIMraQbsa3Ng2jCON+tXLl9gy4ll/HpGwCOPwLvfXfugzGw4zh/OwWUnK0kP0vswFzSR9JH/4nBObtafsjtYPP88rFgBu+9e+6DMbOgiyp7CvpRKrqzeXrTcAzwbET3DOblZf8oebqmzM/m+xx61DcjMhicZseJ7wJ7ABJKLntVEbFnO4ZV0sJgHrIyIJyJiKTBZ0iWVxmtWjlw66vqgOtIZa5yszLLu+8ApwGPAJOADwIXlHlxJsnptRLzUuxIRK4D9KzjerGxJM2AZz0x1dCTT1++0U+2DMrPhiegCmojIE/EToOznTSppBhwnaas0SSHp1RUeb1a2XLnPWXV0wGteA+MqHPTWzOptDdIE4D6kbwDPUMEFUyXJ5tsk81n9Ml3/B+DLFRxvVrayHwru7ITXv772AZnZcP0jSXI6G/gXYDrwrnIPruQ5q59Juht4S7rphIh4uIJAzcpW1kC2f/sb/PWv8N731icoMxsaqQn4ChHvBf4GfKHSIipqxkuTkxOU1VxZHSy6uqBQcOcKs6yLyCPtjDSBiO6hFOF7TpY5+UKQL5Qxn1VvT0A/Y2U2EiwCbkNaQDJsXyLiP8o5uK53pSXNldQpqUvSuQPs9y5JIenAesZn2ZDLFwAY3zxIb8DeZ6xe85oaR2Q2RklzkTqRuhigzkZ6F1IwcJ39OHA1Sd6ZXPRVlrpdWSlps7wQeBvwFHCXpAV973tJmgx8HLizXrFZtvQmq0GbATs6YPp0T2NvVgsl6mykBfTtq1BunR3xhXT/LYEg4uVKwin7ykrS18vZNoDZQFdELIqkzfIK4PgS+30R+DrJTTgbg7p70iurcpKV71eZ1cpsoIuIRVSjzpYOJBm27wHgQaT7kcruylvJldXbgE/12XZ0iW39aQWWFK0/RTL78HqSDgCmR8TvJP1rfwVJOhM4E6C1tZX29vYyQ7CRoCcfnLNvD5NXPEp7++LSO0Vw2MKFLJs7ly7//M2Gojnt4d1rfkTML1oftM4mrbOJ+B0D1NmpS4CziLglPfYw4CdAWbPND5qsJH0YOAvYVdIDRS9NBv5UzknKIWkc8B/AaYPtm36g8wFaWlpizpw51QrDMmDJ8jV84Bs38s0T92TOgdNL7/T007B2LdOOPJJp/vmbDUVPRAy9X0AFdXYqvz5RAUTciq66ci4AABBsSURBVFT2+LLlXFldBlwLfJXkKqr3rvfLEbG83BMBS0keAus1Ld3WazKwD9CuZGry7YEFko6LiOLsb6Ncd+89q4Ges/KYgGa1VnadTVGdjXQcxXV2cvUFcBPSj4DLSWbweDfQXm4wgyariFgJrJTUQZ8MKomIKHda+7uAWZJmkrzhk4H39DnP1KKy24H/50Q19pTVwcLJyqzW7gJm0U+dTZ86m7TOZtM6+9t91j9ftFz2FPeV3LN6pWh5IsmUIY+Ue3BE9Eg6m2R24SbgkohYKGkecHdELKggFhvFcj3J7++AHSw6OpJegDvuWKeozMaYiB761NlELCStsym3zo54czXCqeu09hFxDXBNn22f62ffOZWUbaNH9/rnrAZIVp2dycPAKmNkdjMbmhJ1Nv3U2QxWZ0tTgH8CZlCceyI+Vk4ontbeMmf9Q8EDTRHS0QGHH16niMysCq4B7gAeBAqVHjzcae3LvV9lVrbe56z6vWe1ejU8+aTvV5mNLBOJ+ORQD/a09pY5G66s+klWjz6afPeYgGYjyc+RPkgy5NK69VvL7FVeSbJ6luR5q8NIrrBukXRRRHikCauqQZNV75iAvrIyG0m6gW8C57GhlS6AXco5uJJk9TPgZeB76fp7gJ+TTMJoVjXd+eT3eEJ/A9l2dCQdK2bNqmNUZjZM5wC7EfHCUA6uJFntExF7Fa3fKMlzW1nV5QYbG7CjA2bOhIkT6xiVmQ1TF7BmqAdXkqzulfSGiLgDQNLBgB/YtarLDTaCRUeH71eZjTyrgfuQbmTje1ZV77r+euBPkp5M13cCOnt7CUZEWYMRmg1mwHtWhULSweItb6lzVGY2TFelX0NSSbKaO9STmFWi955VyWS1ZAmsXevOFWYjTcRPkSYBOxHRWenhlYxg8USlhZsNxYBjA3pMQLORSXoH8C1gAjATaT9gHhHHlXN4JQ8Fbwa8iz5DZVQwkK1ZWTZMvliiN2BvsvI9K7OR5nySCR3bAYi4D6msbutQWTPg/wIrgXsovjlmVmW5fAEJmsb1k6ymTIFtt61/YGY2HDkiVvYZz7PsYZcqSVbTIsL3razmuvMFxjeNQ6UGqe3sTJoAPYCt2UizEOk9QBPSLOBjVDCB7wDDWm/iT5L2rTQ6s0rleqL/cQE7Ony/ymxk+iiwN0nL3OXAKuAT5R5cyZXVYcDpkhalJxPusm41kMsXSj9jtXIlPPOM71eZjUQRa0iGWjpvKIdX2nVdVDCzo9lQ5PKF0p0rPCag2cgjDTxJY7V6A0p6mdIJqjdxbVnOiczK1XvPahNOVmYj0SHAEpKmvztJckfFBk1WETF5KAWbDVUu3889q44OaG6GXXetf1BmNlTbA28DTiEZAP13wOVELKykkEo6WJjVRXdPvvSVVUcH7LILjB9f/6DMbGgi8kS0EXEq8AaSAW3bkc6upJjhTGtvVhO5fDC+1PQg7gloNjIlg0ocS3J1NQO4APhtJUU4WVnm5Erds+rpga4uePvbSx9kZtkk/QzYB7gG+AIRDw2lGCcry5zunhLJavFi6O72lZXZyPM+kulBPg58rOiB/qSTXkRZnfScrCxzcvkCLZv1+dX0mIBmI1NEVfpGuIOFZU4uH5teWTlZmY1pTlaWOSUfCu7shG22ga23bkxQZtZQTlaWOSUfCnZPQLMxzcnKMqe7p7DpQ8EdHW4CNBvDnKwsczbpuv7ii/DCC76yMhvDnKwsczZ5KNhjApqNeU5Wljm5vs9Z9fYEdLIyG7PqmqwkzZXUKalL0rklXv+kpIclPSDpj5J2rmd8lg3dfeez6uiACRNgxoyGxWQ2JklzkTqRuihRZyN9EulhpAeQ/kgN6+y6JStJTcCFwNHAXsApkvbqs9tfgAPTCR1/BXyjXvFZduTyfTpYdHTArFnQ1NS4oMzGmhJ1Nv3U2dShzq7nldVsoCsiFkVEN3AFcHzxDhFxYySzSQLcAUyrY3yWAflCUAg2bgbs7HQToFn9zQa6iFhEP3U2ETdSpzq7nsMttZJMwNXrKeDgAfY/A7i21AuSzgTOBGhtbaW9vb1KIVqjRcA5+/aw/dpFtLcvRbkcR3R18eTs2fzVP2ezamqWdHfR+vyImF+0XrU6uxoyOTagpPcBBwJvKvV6+oHOB2hpaYk5c+bULzirqZVrc5z+hev57LGz+IfDd4FHHoFCgZ2POoqd/XM2q6aeiDiwKiUNUmdXQz2T1VJgetH6tHTbRiS9FTgPeFNErKtTbJYRuXwBYEMHi66u5PusWQ2KyGzMKqvOpqjOpoZ1dj3vWd0FzJI0U9IE4GRgQfEOkvYHfgQcFxHP1TE2y4jeZLX+ntXixcn3mTMbE5DZ2HUXMAtpJv3U2RTV2dS4zq5bsoqIHuBs4DrgEeDKiFgoaZ6k49LdvglsAfxS0n2SFvRTnI1SuZ4A+iSrSZNg220bF5TZWFSiziZiIdI8StTZSPdRwzq7rvesIuIaktkii7d9rmj5rfWMx7Knu28z4OLFyfNVKjHNvZnVVok6m6I6mzrW2R7BwjJl/T2r3ilCepOVmY1pTlaWKSXvWTlZmY15TlaWKRslq1WrYPlyJyszc7KybOku7mDxxBPJRicrszHPycoyZUMHC23otu5kZTbmOVlZpuR6ipoBnazMLOVkZZmy0T2r3mesttmmsUGZWcM5WVmmbPSclZ+xMrOUk5VlSi6fdLCY0DTO3dbNbD0nK8uUTZoBnazMDCcry5j1I1isftnPWJnZek5WlindaW/ACU+nc745WZkZTlaWMes7WDz5ZLLBycrMcLKyjOmdIqR5iUevMLMNnKwsU3L5AuME4554ws9Ymdl6TlaWKbl8wc9YmdkmnKwsU7rzBXdbN7NNOFlZpuTyBT8QbGabcLKyTMn1BFNya2DFCicrM1vPycoyJZcvMP3l55KVmTMbG4yZZYaTlWXKunyBaSvTZOUrKzNLOVlZpuR6CrS+9Gyy4mRlZiknK8uUXL7ADiuehc03h6lTGx2OmWWEk5VlSi4fbL9imZ+xMrONOFlZpnTnC2y3fJmbAM1sI05Wlim5fIFtXnSyMrONOVlZpox/ZRVbrFnlZGVmG3Gyskx59fPLkgUnKzMr4mRlmbL1C08nC05WZlbEycoyZeoLzyQLTlZmVsTJyjJlu+XL6N5sop+xMrON1DVZSZorqVNSl6RzS7y+maT/SV+/U9KMesZnjbfdimW8tG2rn7EyywJpLlInUhcl6mykzZD+J339TmpYZ9ctWUlqAi4Ejgb2Ak6RtFef3c4AVkTEbsB3gK/XKz7Lhh1WLGPldq2NDsPMStTZ9FNnU4c6u7lWBZcwG+iKiEUAkq4AjgceLtrneOD8dPlXwPclKSKi2sG88sIKXtjngGoXa8O017OLuef1sxsdhpmldTZpnU2ZdTaSqEGdXc9k1QosKVp/Cji4v30iokfSSmBr4IXinSSdCZwJ0NraSnt7e+XRrFnLjF38H3zWLN51OuvmHjq0n6mZVaJZ0t1F6/MjYn7RekV1NhE99FNnVyXYahdYD+kHOh+gpaUl5syZM7SCjjm6ekFZ1cxodABmY0NPRBzY6CDKVc8OFkuB6UXr09JtJfeR1Ay8CnixLtGZmVmxiupsalxn1zNZ3QXMkjRT0gTgZGBBn30WAKemyycCN9TifpWZmQ3qLmAW0kwqqLNrcb8K6tgMmN6DOhu4DmgCLomIhZLmAXdHxALgYuDnkrqA5SQfjpmZ1VtyD2qjOpuIhaR1NkV1NnWoszXSL1xaWlpi9erVjQ7DzGxEkbQmIloaHUe5PIKFmZllnpOVmZllnpOVmZllnpOVmZll3ojvYCGpAKwdRhHNQE+VwqmFrMcH2Y8x6/GBY6yGrMcH2YpxUkSMmAuWEZ+shkvS3Vl+ijvr8UH2Y8x6fOAYqyHr8cHIiDGrRkxWNTOzscvJyszMMs/JKh0QN8OyHh9kP8asxweOsRqyHh+MjBgzaczfszIzs+zzlZWZmWWek5WZmWXemE1WkuZK6pTUJencRsfTl6Tpkm6U9LCkhZI+3uiYSpHUJOkvkq5udCylSJoi6VeSOiQ9IumQRsfUl6R/SX/GD0m6XNLEBsdziaTnJD1UtO3Vkn4v6bH0+1YZjPGb6c/5AUm/lTQlazEWvXaOpJA0tRGxjURjMllJagIuBI4G9gJOkbRXY6PaRA9wTkTsBbwB+EgGYwT4OPBIo4MYwHeBtojYA3gdGYtVUivwMeDAiNiHZCqGRk+Ncykwt8+2c4E/RsQs4I/peiNdyqYx/h7YJyJeCzwKfLreQfVxKZvGiKTpwFHAk/UOaCQbk8kKmA10RcSiiOgGrgCOb3BMG4mIZyLi3nT5ZZJKtrWxUW1M0jTgWODHjY6lFEmvAo4gmXOHiOiOiJcaG1VJzcCkdHbszYGnGxlMRNxMMjdRseOBn6bLPwXeWdeg+igVY0RcHxG9o0PcQTKzbcP08zkCfAf4N8C92yowVpNVK7CkaP0pMpYIikmaAewP3NnYSDbxnyR/dIVGB9KPmcDzwE/SpsofS8rU/D0RsRT4Fsl/2c8AKyPi+sZGVdJ2EfFMurwM2K6RwZTh/cC1jQ6iL0nHA0sj4v5GxzLSjNVkNWJI2gL4NfCJiFjV6Hh6SXo78FxE3NPoWAbQDBwA/DAi9gdW0/jmq42k936OJ0msOwItkt7X2KgGFsnzLpm9KpB0Hkkz+i8aHUsxSZsDnwE+1+hYRqKxmqyWAtOL1qel2zJF0niSRPWLiPhNo+Pp41DgOEmLSZpR3yLpvxsb0iaeAp6KiN4r0l+RJK8seSvw14h4PiJywG+ANzY4plKelbQDQPr9uQbHU5Kk04C3A++N7D1EuivJPyX3p38304B7JW3f0KhGiLGarO4CZkmaKWkCyQ3tBQ2OaSOSRHKv5ZGI+I9Gx9NXRHw6IqZFxAySz++GiMjUFUFELAOWSNo93XQk8HADQyrlSeANkjZPf+ZHkrFOIKkFwKnp8qnA/zYwlpIkzSVplj4uItY0Op6+IuLBiNg2ImakfzdPAQekv6c2iDGZrNKbsGcD15FUDFdGxMLGRrWJQ4F/JLliuS/9OqbRQY1AHwV+IekBYD/gKw2OZyPpVd+vgHuBB0n+Jhs6JI+ky4Hbgd0lPSXpDOBrwNskPUZyNfi1DMb4fWAy8Pv07+WiDMZoQ+ThlszMLPPG5JWVmZmNLE5WZmaWeU5WZmaWeU5WZmaWeU5WZmaWeU5WZhWQtHXRowTLJC1Nl1+R9INGx2c2WrnrutkQSTofeCUivtXoWMxGO19ZmVWBpDm9c3pJOl/STyXdIukJSSdI+oakByW1pcNoIen1km6SdI+k63qHMzKzTTlZmdXGrsBbgOOA/wZujIh9gbXAsWnC+h5wYkS8HrgE+HKjgjXLuuZGB2A2Sl0bETlJD5JMqNiWbn8QmAHsDuxDMjQQ6T7PlCjHzHCyMquVdQARUZCUKxoBvEDydydgYUQc0qgAzUYSNwOaNUYnsI2kQyCZDkbS3g2OySyznKzMGiAiuoETga9Luh+4j2zOY2WWCe66bmZmmecrKzMzyzwnKzMzyzwnKzMzyzwnKzMzyzwnKzMzyzwnKzMzyzwnKzMzy7z/D01tdEHq96CqAAAAAElFTkSuQmCC\n",
         "text/plain": "<Figure size 432x288 with 2 Axes>"
        },
        "metadata": {
         "needs_background": "light"
        },
        "output_type": "display_data"
       }
      ]
     }
    },
    "35d5ef012c424413868fd10a30fbb418": {
     "model_module": "@jupyter-widgets/base",
     "model_module_version": "1.2.0",
     "model_name": "LayoutModel",
     "state": {
      "_model_module": "@jupyter-widgets/base",
      "_model_module_version": "1.2.0",
      "_model_name": "LayoutModel",
      "_view_count": null,
      "_view_module": "@jupyter-widgets/base",
      "_view_module_version": "1.2.0",
      "_view_name": "LayoutView",
      "align_content": null,
      "align_items": null,
      "align_self": null,
      "border": null,
      "bottom": null,
      "display": null,
      "flex": null,
      "flex_flow": null,
      "grid_area": null,
      "grid_auto_columns": null,
      "grid_auto_flow": null,
      "grid_auto_rows": null,
      "grid_column": null,
      "grid_gap": null,
      "grid_row": null,
      "grid_template_areas": null,
      "grid_template_columns": null,
      "grid_template_rows": null,
      "height": null,
      "justify_content": null,
      "justify_items": null,
      "left": null,
      "margin": null,
      "max_height": null,
      "max_width": null,
      "min_height": null,
      "min_width": null,
      "object_fit": null,
      "object_position": null,
      "order": null,
      "overflow": null,
      "overflow_x": null,
      "overflow_y": null,
      "padding": null,
      "right": null,
      "top": null,
      "visibility": null,
      "width": null
     }
    },
    "3631b644bdd44e3fa0107345763dc05c": {
     "model_module": "@jupyter-widgets/base",
     "model_module_version": "1.2.0",
     "model_name": "LayoutModel",
     "state": {
      "_model_module": "@jupyter-widgets/base",
      "_model_module_version": "1.2.0",
      "_model_name": "LayoutModel",
      "_view_count": null,
      "_view_module": "@jupyter-widgets/base",
      "_view_module_version": "1.2.0",
      "_view_name": "LayoutView",
      "align_content": null,
      "align_items": null,
      "align_self": null,
      "border": null,
      "bottom": null,
      "display": null,
      "flex": null,
      "flex_flow": null,
      "grid_area": null,
      "grid_auto_columns": null,
      "grid_auto_flow": null,
      "grid_auto_rows": null,
      "grid_column": null,
      "grid_gap": null,
      "grid_row": null,
      "grid_template_areas": null,
      "grid_template_columns": null,
      "grid_template_rows": null,
      "height": null,
      "justify_content": null,
      "justify_items": null,
      "left": null,
      "margin": null,
      "max_height": null,
      "max_width": null,
      "min_height": null,
      "min_width": null,
      "object_fit": null,
      "object_position": null,
      "order": null,
      "overflow": null,
      "overflow_x": null,
      "overflow_y": null,
      "padding": null,
      "right": null,
      "top": null,
      "visibility": null,
      "width": null
     }
    },
    "3cbe03050dfb4d90a7ed7704a061750a": {
     "model_module": "@jupyter-widgets/base",
     "model_module_version": "1.2.0",
     "model_name": "LayoutModel",
     "state": {
      "_model_module": "@jupyter-widgets/base",
      "_model_module_version": "1.2.0",
      "_model_name": "LayoutModel",
      "_view_count": null,
      "_view_module": "@jupyter-widgets/base",
      "_view_module_version": "1.2.0",
      "_view_name": "LayoutView",
      "align_content": null,
      "align_items": null,
      "align_self": null,
      "border": null,
      "bottom": null,
      "display": null,
      "flex": null,
      "flex_flow": null,
      "grid_area": null,
      "grid_auto_columns": null,
      "grid_auto_flow": null,
      "grid_auto_rows": null,
      "grid_column": null,
      "grid_gap": null,
      "grid_row": null,
      "grid_template_areas": null,
      "grid_template_columns": null,
      "grid_template_rows": null,
      "height": null,
      "justify_content": null,
      "justify_items": null,
      "left": null,
      "margin": null,
      "max_height": null,
      "max_width": null,
      "min_height": null,
      "min_width": null,
      "object_fit": null,
      "object_position": null,
      "order": null,
      "overflow": null,
      "overflow_x": null,
      "overflow_y": null,
      "padding": null,
      "right": null,
      "top": null,
      "visibility": null,
      "width": null
     }
    },
    "3f3a6f9d618143e0af93825fb92829b5": {
     "model_module": "@jupyter-widgets/base",
     "model_module_version": "1.2.0",
     "model_name": "LayoutModel",
     "state": {
      "_model_module": "@jupyter-widgets/base",
      "_model_module_version": "1.2.0",
      "_model_name": "LayoutModel",
      "_view_count": null,
      "_view_module": "@jupyter-widgets/base",
      "_view_module_version": "1.2.0",
      "_view_name": "LayoutView",
      "align_content": null,
      "align_items": null,
      "align_self": null,
      "border": null,
      "bottom": null,
      "display": null,
      "flex": null,
      "flex_flow": null,
      "grid_area": null,
      "grid_auto_columns": null,
      "grid_auto_flow": null,
      "grid_auto_rows": null,
      "grid_column": null,
      "grid_gap": null,
      "grid_row": null,
      "grid_template_areas": null,
      "grid_template_columns": null,
      "grid_template_rows": null,
      "height": null,
      "justify_content": null,
      "justify_items": null,
      "left": null,
      "margin": null,
      "max_height": null,
      "max_width": null,
      "min_height": null,
      "min_width": null,
      "object_fit": null,
      "object_position": null,
      "order": null,
      "overflow": null,
      "overflow_x": null,
      "overflow_y": null,
      "padding": null,
      "right": null,
      "top": null,
      "visibility": null,
      "width": null
     }
    },
    "417c251b6f1e4bcbae0a07a514dac779": {
     "model_module": "@jupyter-widgets/controls",
     "model_module_version": "1.5.0",
     "model_name": "IntSliderModel",
     "state": {
      "_dom_classes": [],
      "_model_module": "@jupyter-widgets/controls",
      "_model_module_version": "1.5.0",
      "_model_name": "IntSliderModel",
      "_view_count": null,
      "_view_module": "@jupyter-widgets/controls",
      "_view_module_version": "1.5.0",
      "_view_name": "IntSliderView",
      "continuous_update": true,
      "description": "E_rev_L",
      "description_tooltip": null,
      "disabled": false,
      "layout": "IPY_MODEL_35d5ef012c424413868fd10a30fbb418",
      "max": 3,
      "min": -3,
      "orientation": "horizontal",
      "readout": true,
      "readout_format": "d",
      "step": 1,
      "style": "IPY_MODEL_e74e8cb275b343e5bd89b7075bbb0093",
      "value": 0
     }
    },
    "49b02a27253446cc8cb738885278d74c": {
     "model_module": "@jupyter-widgets/controls",
     "model_module_version": "1.5.0",
     "model_name": "SliderStyleModel",
     "state": {
      "_model_module": "@jupyter-widgets/controls",
      "_model_module_version": "1.5.0",
      "_model_name": "SliderStyleModel",
      "_view_count": null,
      "_view_module": "@jupyter-widgets/base",
      "_view_module_version": "1.2.0",
      "_view_name": "StyleView",
      "description_width": "",
      "handle_color": null
     }
    },
    "4c6bbbb7194c409bb5b146c89cdc8712": {
     "model_module": "@jupyter-widgets/controls",
     "model_module_version": "1.5.0",
     "model_name": "SliderStyleModel",
     "state": {
      "_model_module": "@jupyter-widgets/controls",
      "_model_module_version": "1.5.0",
      "_model_name": "SliderStyleModel",
      "_view_count": null,
      "_view_module": "@jupyter-widgets/base",
      "_view_module_version": "1.2.0",
      "_view_name": "StyleView",
      "description_width": "",
      "handle_color": null
     }
    },
    "5313bde0ef5341a5a021c62226423737": {
     "model_module": "@jupyter-widgets/base",
     "model_module_version": "1.2.0",
     "model_name": "LayoutModel",
     "state": {
      "_model_module": "@jupyter-widgets/base",
      "_model_module_version": "1.2.0",
      "_model_name": "LayoutModel",
      "_view_count": null,
      "_view_module": "@jupyter-widgets/base",
      "_view_module_version": "1.2.0",
      "_view_name": "LayoutView",
      "align_content": null,
      "align_items": null,
      "align_self": null,
      "border": null,
      "bottom": null,
      "display": null,
      "flex": null,
      "flex_flow": null,
      "grid_area": null,
      "grid_auto_columns": null,
      "grid_auto_flow": null,
      "grid_auto_rows": null,
      "grid_column": null,
      "grid_gap": null,
      "grid_row": null,
      "grid_template_areas": null,
      "grid_template_columns": null,
      "grid_template_rows": null,
      "height": null,
      "justify_content": null,
      "justify_items": null,
      "left": null,
      "margin": null,
      "max_height": null,
      "max_width": null,
      "min_height": null,
      "min_width": null,
      "object_fit": null,
      "object_position": null,
      "order": null,
      "overflow": null,
      "overflow_x": null,
      "overflow_y": null,
      "padding": null,
      "right": null,
      "top": null,
      "visibility": null,
      "width": null
     }
    },
    "57c2c4abb5034dfca9dc104014106d1d": {
     "model_module": "@jupyter-widgets/controls",
     "model_module_version": "1.5.0",
     "model_name": "IntSliderModel",
     "state": {
      "_dom_classes": [],
      "_model_module": "@jupyter-widgets/controls",
      "_model_module_version": "1.5.0",
      "_model_name": "IntSliderModel",
      "_view_count": null,
      "_view_module": "@jupyter-widgets/controls",
      "_view_module_version": "1.5.0",
      "_view_name": "IntSliderView",
      "continuous_update": true,
      "description": "E_rev_leak",
      "description_tooltip": null,
      "disabled": false,
      "layout": "IPY_MODEL_b482bec22099478aaf5102168647aace",
      "max": 3,
      "min": -3,
      "orientation": "horizontal",
      "readout": true,
      "readout_format": "d",
      "step": 1,
      "style": "IPY_MODEL_4c6bbbb7194c409bb5b146c89cdc8712",
      "value": 0
     }
    },
    "600ecbef82114240abd12bbc60808b15": {
     "model_module": "@jupyter-widgets/controls",
     "model_module_version": "1.5.0",
     "model_name": "IntSliderModel",
     "state": {
      "_dom_classes": [],
      "_model_module": "@jupyter-widgets/controls",
      "_model_module_version": "1.5.0",
      "_model_name": "IntSliderModel",
      "_view_count": null,
      "_view_module": "@jupyter-widgets/controls",
      "_view_module_version": "1.5.0",
      "_view_name": "IntSliderView",
      "continuous_update": true,
      "description": "τNa",
      "description_tooltip": null,
      "disabled": false,
      "layout": "IPY_MODEL_f36de8f0895845a2819f7ffe71546efd",
      "max": 3,
      "min": -3,
      "orientation": "horizontal",
      "readout": true,
      "readout_format": "d",
      "step": 1,
      "style": "IPY_MODEL_b8cfef5634fc461bb788c91467529cde",
      "value": 0
     }
    },
    "68ba22c0a62a4dd7a26c8e26626bea59": {
     "model_module": "@jupyter-widgets/base",
     "model_module_version": "1.2.0",
     "model_name": "LayoutModel",
     "state": {
      "_model_module": "@jupyter-widgets/base",
      "_model_module_version": "1.2.0",
      "_model_name": "LayoutModel",
      "_view_count": null,
      "_view_module": "@jupyter-widgets/base",
      "_view_module_version": "1.2.0",
      "_view_name": "LayoutView",
      "align_content": null,
      "align_items": null,
      "align_self": null,
      "border": null,
      "bottom": null,
      "display": null,
      "flex": null,
      "flex_flow": null,
      "grid_area": null,
      "grid_auto_columns": null,
      "grid_auto_flow": null,
      "grid_auto_rows": null,
      "grid_column": null,
      "grid_gap": null,
      "grid_row": null,
      "grid_template_areas": null,
      "grid_template_columns": null,
      "grid_template_rows": null,
      "height": null,
      "justify_content": null,
      "justify_items": null,
      "left": null,
      "margin": null,
      "max_height": null,
      "max_width": null,
      "min_height": null,
      "min_width": null,
      "object_fit": null,
      "object_position": null,
      "order": null,
      "overflow": null,
      "overflow_x": null,
      "overflow_y": null,
      "padding": null,
      "right": null,
      "top": null,
      "visibility": null,
      "width": null
     }
    },
    "6cb5b6f82330478e9b0397d1dfa0e50a": {
     "model_module": "@jupyter-widgets/controls",
     "model_module_version": "1.5.0",
     "model_name": "VBoxModel",
     "state": {
      "_dom_classes": [
       "widget-interact"
      ],
      "_model_module": "@jupyter-widgets/controls",
      "_model_module_version": "1.5.0",
      "_model_name": "VBoxModel",
      "_view_count": null,
      "_view_module": "@jupyter-widgets/controls",
      "_view_module_version": "1.5.0",
      "_view_name": "VBoxView",
      "box_style": "",
      "children": [
       "IPY_MODEL_57c2c4abb5034dfca9dc104014106d1d",
       "IPY_MODEL_32dcf89c82c94b908c1da958c208a8c0"
      ],
      "layout": "IPY_MODEL_6f40af3b44c249d4a62ad7ce88980802"
     }
    },
    "6f40af3b44c249d4a62ad7ce88980802": {
     "model_module": "@jupyter-widgets/base",
     "model_module_version": "1.2.0",
     "model_name": "LayoutModel",
     "state": {
      "_model_module": "@jupyter-widgets/base",
      "_model_module_version": "1.2.0",
      "_model_name": "LayoutModel",
      "_view_count": null,
      "_view_module": "@jupyter-widgets/base",
      "_view_module_version": "1.2.0",
      "_view_name": "LayoutView",
      "align_content": null,
      "align_items": null,
      "align_self": null,
      "border": null,
      "bottom": null,
      "display": null,
      "flex": null,
      "flex_flow": null,
      "grid_area": null,
      "grid_auto_columns": null,
      "grid_auto_flow": null,
      "grid_auto_rows": null,
      "grid_column": null,
      "grid_gap": null,
      "grid_row": null,
      "grid_template_areas": null,
      "grid_template_columns": null,
      "grid_template_rows": null,
      "height": null,
      "justify_content": null,
      "justify_items": null,
      "left": null,
      "margin": null,
      "max_height": null,
      "max_width": null,
      "min_height": null,
      "min_width": null,
      "object_fit": null,
      "object_position": null,
      "order": null,
      "overflow": null,
      "overflow_x": null,
      "overflow_y": null,
      "padding": null,
      "right": null,
      "top": null,
      "visibility": null,
      "width": null
     }
    },
    "73c9c2f3220e40f89af0ad9a80cb49ab": {
     "model_module": "@jupyter-widgets/controls",
     "model_module_version": "1.5.0",
     "model_name": "IntSliderModel",
     "state": {
      "_dom_classes": [],
      "_model_module": "@jupyter-widgets/controls",
      "_model_module_version": "1.5.0",
      "_model_name": "IntSliderModel",
      "_view_count": null,
      "_view_module": "@jupyter-widgets/controls",
      "_view_module_version": "1.5.0",
      "_view_name": "IntSliderView",
      "continuous_update": true,
      "description": "voff_Na",
      "description_tooltip": null,
      "disabled": false,
      "layout": "IPY_MODEL_da7e3441367e4e478175eb19b5bc7794",
      "max": 3,
      "min": -3,
      "orientation": "horizontal",
      "readout": true,
      "readout_format": "d",
      "step": 1,
      "style": "IPY_MODEL_2c5b3a3853794901b3dc25091ccf3b59",
      "value": 0
     }
    },
    "77c42ab74f9946b1a29a05c38533d9db": {
     "model_module": "@jupyter-widgets/base",
     "model_module_version": "1.2.0",
     "model_name": "LayoutModel",
     "state": {
      "_model_module": "@jupyter-widgets/base",
      "_model_module_version": "1.2.0",
      "_model_name": "LayoutModel",
      "_view_count": null,
      "_view_module": "@jupyter-widgets/base",
      "_view_module_version": "1.2.0",
      "_view_name": "LayoutView",
      "align_content": null,
      "align_items": null,
      "align_self": null,
      "border": null,
      "bottom": null,
      "display": null,
      "flex": null,
      "flex_flow": null,
      "grid_area": null,
      "grid_auto_columns": null,
      "grid_auto_flow": null,
      "grid_auto_rows": null,
      "grid_column": null,
      "grid_gap": null,
      "grid_row": null,
      "grid_template_areas": null,
      "grid_template_columns": null,
      "grid_template_rows": null,
      "height": null,
      "justify_content": null,
      "justify_items": null,
      "left": null,
      "margin": null,
      "max_height": null,
      "max_width": null,
      "min_height": null,
      "min_width": null,
      "object_fit": null,
      "object_position": null,
      "order": null,
      "overflow": null,
      "overflow_x": null,
      "overflow_y": null,
      "padding": null,
      "right": null,
      "top": null,
      "visibility": null,
      "width": null
     }
    },
    "78b7539e4a6347328222f00b274b040d": {
     "model_module": "@jupyter-widgets/base",
     "model_module_version": "1.2.0",
     "model_name": "LayoutModel",
     "state": {
      "_model_module": "@jupyter-widgets/base",
      "_model_module_version": "1.2.0",
      "_model_name": "LayoutModel",
      "_view_count": null,
      "_view_module": "@jupyter-widgets/base",
      "_view_module_version": "1.2.0",
      "_view_name": "LayoutView",
      "align_content": null,
      "align_items": null,
      "align_self": null,
      "border": null,
      "bottom": null,
      "display": null,
      "flex": null,
      "flex_flow": null,
      "grid_area": null,
      "grid_auto_columns": null,
      "grid_auto_flow": null,
      "grid_auto_rows": null,
      "grid_column": null,
      "grid_gap": null,
      "grid_row": null,
      "grid_template_areas": null,
      "grid_template_columns": null,
      "grid_template_rows": null,
      "height": null,
      "justify_content": null,
      "justify_items": null,
      "left": null,
      "margin": null,
      "max_height": null,
      "max_width": null,
      "min_height": null,
      "min_width": null,
      "object_fit": null,
      "object_position": null,
      "order": null,
      "overflow": null,
      "overflow_x": null,
      "overflow_y": null,
      "padding": null,
      "right": null,
      "top": null,
      "visibility": null,
      "width": null
     }
    },
    "842ce73ff2c4479bae8e09fab07dca19": {
     "model_module": "@jupyter-widgets/controls",
     "model_module_version": "1.5.0",
     "model_name": "IntSliderModel",
     "state": {
      "_dom_classes": [],
      "_model_module": "@jupyter-widgets/controls",
      "_model_module_version": "1.5.0",
      "_model_name": "IntSliderModel",
      "_view_count": null,
      "_view_module": "@jupyter-widgets/controls",
      "_view_module_version": "1.5.0",
      "_view_name": "IntSliderView",
      "continuous_update": true,
      "description": "voff_Na",
      "description_tooltip": null,
      "disabled": false,
      "layout": "IPY_MODEL_78b7539e4a6347328222f00b274b040d",
      "max": 3,
      "min": -3,
      "orientation": "horizontal",
      "readout": true,
      "readout_format": "d",
      "step": 1,
      "style": "IPY_MODEL_49b02a27253446cc8cb738885278d74c",
      "value": 0
     }
    },
    "8478cb1aa49b4f6f9b517912dd16f6f7": {
     "model_module": "@jupyter-widgets/controls",
     "model_module_version": "1.5.0",
     "model_name": "IntSliderModel",
     "state": {
      "_dom_classes": [],
      "_model_module": "@jupyter-widgets/controls",
      "_model_module_version": "1.5.0",
      "_model_name": "IntSliderModel",
      "_view_count": null,
      "_view_module": "@jupyter-widgets/controls",
      "_view_module_version": "1.5.0",
      "_view_name": "IntSliderView",
      "continuous_update": true,
      "description": "αNa",
      "description_tooltip": null,
      "disabled": false,
      "layout": "IPY_MODEL_f663940414884f82800e8b944595ff61",
      "max": 3,
      "min": -3,
      "orientation": "horizontal",
      "readout": true,
      "readout_format": "d",
      "step": 1,
      "style": "IPY_MODEL_2e8dff6f95c84693afac13908663e274",
      "value": -1
     }
    },
    "aee29567c7ed4039b14c60a8915abfce": {
     "model_module": "@jupyter-widgets/output",
     "model_module_version": "1.0.0",
     "model_name": "OutputModel",
     "state": {
      "_dom_classes": [],
      "_model_module": "@jupyter-widgets/output",
      "_model_module_version": "1.0.0",
      "_model_name": "OutputModel",
      "_view_count": null,
      "_view_module": "@jupyter-widgets/output",
      "_view_module_version": "1.0.0",
      "_view_name": "OutputView",
      "layout": "IPY_MODEL_68ba22c0a62a4dd7a26c8e26626bea59",
      "msg_id": "",
      "outputs": [
       {
        "data": {
         "image/png": "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\n",
         "text/plain": "<Figure size 432x288 with 1 Axes>"
        },
        "metadata": {
         "needs_background": "light"
        },
        "output_type": "display_data"
       }
      ]
     }
    },
    "b482bec22099478aaf5102168647aace": {
     "model_module": "@jupyter-widgets/base",
     "model_module_version": "1.2.0",
     "model_name": "LayoutModel",
     "state": {
      "_model_module": "@jupyter-widgets/base",
      "_model_module_version": "1.2.0",
      "_model_name": "LayoutModel",
      "_view_count": null,
      "_view_module": "@jupyter-widgets/base",
      "_view_module_version": "1.2.0",
      "_view_name": "LayoutView",
      "align_content": null,
      "align_items": null,
      "align_self": null,
      "border": null,
      "bottom": null,
      "display": null,
      "flex": null,
      "flex_flow": null,
      "grid_area": null,
      "grid_auto_columns": null,
      "grid_auto_flow": null,
      "grid_auto_rows": null,
      "grid_column": null,
      "grid_gap": null,
      "grid_row": null,
      "grid_template_areas": null,
      "grid_template_columns": null,
      "grid_template_rows": null,
      "height": null,
      "justify_content": null,
      "justify_items": null,
      "left": null,
      "margin": null,
      "max_height": null,
      "max_width": null,
      "min_height": null,
      "min_width": null,
      "object_fit": null,
      "object_position": null,
      "order": null,
      "overflow": null,
      "overflow_x": null,
      "overflow_y": null,
      "padding": null,
      "right": null,
      "top": null,
      "visibility": null,
      "width": null
     }
    },
    "b8cfef5634fc461bb788c91467529cde": {
     "model_module": "@jupyter-widgets/controls",
     "model_module_version": "1.5.0",
     "model_name": "SliderStyleModel",
     "state": {
      "_model_module": "@jupyter-widgets/controls",
      "_model_module_version": "1.5.0",
      "_model_name": "SliderStyleModel",
      "_view_count": null,
      "_view_module": "@jupyter-widgets/base",
      "_view_module_version": "1.2.0",
      "_view_name": "StyleView",
      "description_width": "",
      "handle_color": null
     }
    },
    "caabe942c1dd43b3b93225d1e7d6fe67": {
     "model_module": "@jupyter-widgets/controls",
     "model_module_version": "1.5.0",
     "model_name": "IntSliderModel",
     "state": {
      "_dom_classes": [],
      "_model_module": "@jupyter-widgets/controls",
      "_model_module_version": "1.5.0",
      "_model_name": "IntSliderModel",
      "_view_count": null,
      "_view_module": "@jupyter-widgets/controls",
      "_view_module_version": "1.5.0",
      "_view_name": "IntSliderView",
      "continuous_update": true,
      "description": "τNa",
      "description_tooltip": null,
      "disabled": false,
      "layout": "IPY_MODEL_3631b644bdd44e3fa0107345763dc05c",
      "max": 3,
      "min": -3,
      "orientation": "horizontal",
      "readout": true,
      "readout_format": "d",
      "step": 1,
      "style": "IPY_MODEL_0ff22bc91aa64e8fa38a204d3943a3f3",
      "value": 0
     }
    },
    "d77f5a01f11842ba9610e0ceade52522": {
     "model_module": "@jupyter-widgets/output",
     "model_module_version": "1.0.0",
     "model_name": "OutputModel",
     "state": {
      "_dom_classes": [],
      "_model_module": "@jupyter-widgets/output",
      "_model_module_version": "1.0.0",
      "_model_name": "OutputModel",
      "_view_count": null,
      "_view_module": "@jupyter-widgets/output",
      "_view_module_version": "1.0.0",
      "_view_name": "OutputView",
      "layout": "IPY_MODEL_3cbe03050dfb4d90a7ed7704a061750a",
      "msg_id": "",
      "outputs": [
       {
        "data": {
         "image/png": "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\n",
         "text/plain": "<Figure size 432x288 with 1 Axes>"
        },
        "metadata": {
         "needs_background": "light"
        },
        "output_type": "display_data"
       }
      ]
     }
    },
    "da7e3441367e4e478175eb19b5bc7794": {
     "model_module": "@jupyter-widgets/base",
     "model_module_version": "1.2.0",
     "model_name": "LayoutModel",
     "state": {
      "_model_module": "@jupyter-widgets/base",
      "_model_module_version": "1.2.0",
      "_model_name": "LayoutModel",
      "_view_count": null,
      "_view_module": "@jupyter-widgets/base",
      "_view_module_version": "1.2.0",
      "_view_name": "LayoutView",
      "align_content": null,
      "align_items": null,
      "align_self": null,
      "border": null,
      "bottom": null,
      "display": null,
      "flex": null,
      "flex_flow": null,
      "grid_area": null,
      "grid_auto_columns": null,
      "grid_auto_flow": null,
      "grid_auto_rows": null,
      "grid_column": null,
      "grid_gap": null,
      "grid_row": null,
      "grid_template_areas": null,
      "grid_template_columns": null,
      "grid_template_rows": null,
      "height": null,
      "justify_content": null,
      "justify_items": null,
      "left": null,
      "margin": null,
      "max_height": null,
      "max_width": null,
      "min_height": null,
      "min_width": null,
      "object_fit": null,
      "object_position": null,
      "order": null,
      "overflow": null,
      "overflow_x": null,
      "overflow_y": null,
      "padding": null,
      "right": null,
      "top": null,
      "visibility": null,
      "width": null
     }
    },
    "dfbec3d445984fcca868147520d3b5f1": {
     "model_module": "@jupyter-widgets/base",
     "model_module_version": "1.2.0",
     "model_name": "LayoutModel",
     "state": {
      "_model_module": "@jupyter-widgets/base",
      "_model_module_version": "1.2.0",
      "_model_name": "LayoutModel",
      "_view_count": null,
      "_view_module": "@jupyter-widgets/base",
      "_view_module_version": "1.2.0",
      "_view_name": "LayoutView",
      "align_content": null,
      "align_items": null,
      "align_self": null,
      "border": null,
      "bottom": null,
      "display": null,
      "flex": null,
      "flex_flow": null,
      "grid_area": null,
      "grid_auto_columns": null,
      "grid_auto_flow": null,
      "grid_auto_rows": null,
      "grid_column": null,
      "grid_gap": null,
      "grid_row": null,
      "grid_template_areas": null,
      "grid_template_columns": null,
      "grid_template_rows": null,
      "height": null,
      "justify_content": null,
      "justify_items": null,
      "left": null,
      "margin": null,
      "max_height": null,
      "max_width": null,
      "min_height": null,
      "min_width": null,
      "object_fit": null,
      "object_position": null,
      "order": null,
      "overflow": null,
      "overflow_x": null,
      "overflow_y": null,
      "padding": null,
      "right": null,
      "top": null,
      "visibility": null,
      "width": null
     }
    },
    "e74e8cb275b343e5bd89b7075bbb0093": {
     "model_module": "@jupyter-widgets/controls",
     "model_module_version": "1.5.0",
     "model_name": "SliderStyleModel",
     "state": {
      "_model_module": "@jupyter-widgets/controls",
      "_model_module_version": "1.5.0",
      "_model_name": "SliderStyleModel",
      "_view_count": null,
      "_view_module": "@jupyter-widgets/base",
      "_view_module_version": "1.2.0",
      "_view_name": "StyleView",
      "description_width": "",
      "handle_color": null
     }
    },
    "f36de8f0895845a2819f7ffe71546efd": {
     "model_module": "@jupyter-widgets/base",
     "model_module_version": "1.2.0",
     "model_name": "LayoutModel",
     "state": {
      "_model_module": "@jupyter-widgets/base",
      "_model_module_version": "1.2.0",
      "_model_name": "LayoutModel",
      "_view_count": null,
      "_view_module": "@jupyter-widgets/base",
      "_view_module_version": "1.2.0",
      "_view_name": "LayoutView",
      "align_content": null,
      "align_items": null,
      "align_self": null,
      "border": null,
      "bottom": null,
      "display": null,
      "flex": null,
      "flex_flow": null,
      "grid_area": null,
      "grid_auto_columns": null,
      "grid_auto_flow": null,
      "grid_auto_rows": null,
      "grid_column": null,
      "grid_gap": null,
      "grid_row": null,
      "grid_template_areas": null,
      "grid_template_columns": null,
      "grid_template_rows": null,
      "height": null,
      "justify_content": null,
      "justify_items": null,
      "left": null,
      "margin": null,
      "max_height": null,
      "max_width": null,
      "min_height": null,
      "min_width": null,
      "object_fit": null,
      "object_position": null,
      "order": null,
      "overflow": null,
      "overflow_x": null,
      "overflow_y": null,
      "padding": null,
      "right": null,
      "top": null,
      "visibility": null,
      "width": null
     }
    },
    "f3c9879291ea40b9947dfeecd8bda11f": {
     "model_module": "@jupyter-widgets/controls",
     "model_module_version": "1.5.0",
     "model_name": "VBoxModel",
     "state": {
      "_dom_classes": [
       "widget-interact"
      ],
      "_model_module": "@jupyter-widgets/controls",
      "_model_module_version": "1.5.0",
      "_model_name": "VBoxModel",
      "_view_count": null,
      "_view_module": "@jupyter-widgets/controls",
      "_view_module_version": "1.5.0",
      "_view_name": "VBoxView",
      "box_style": "",
      "children": [
       "IPY_MODEL_417c251b6f1e4bcbae0a07a514dac779",
       "IPY_MODEL_23a55501de7a4c0b8374e637c60d66c6",
       "IPY_MODEL_73c9c2f3220e40f89af0ad9a80cb49ab",
       "IPY_MODEL_caabe942c1dd43b3b93225d1e7d6fe67",
       "IPY_MODEL_d77f5a01f11842ba9610e0ceade52522"
      ],
      "layout": "IPY_MODEL_5313bde0ef5341a5a021c62226423737"
     }
    },
    "f568d0022dfc435abfc98ab72d3ba79a": {
     "model_module": "@jupyter-widgets/controls",
     "model_module_version": "1.5.0",
     "model_name": "SliderStyleModel",
     "state": {
      "_model_module": "@jupyter-widgets/controls",
      "_model_module_version": "1.5.0",
      "_model_name": "SliderStyleModel",
      "_view_count": null,
      "_view_module": "@jupyter-widgets/base",
      "_view_module_version": "1.2.0",
      "_view_name": "StyleView",
      "description_width": "",
      "handle_color": null
     }
    },
    "f663940414884f82800e8b944595ff61": {
     "model_module": "@jupyter-widgets/base",
     "model_module_version": "1.2.0",
     "model_name": "LayoutModel",
     "state": {
      "_model_module": "@jupyter-widgets/base",
      "_model_module_version": "1.2.0",
      "_model_name": "LayoutModel",
      "_view_count": null,
      "_view_module": "@jupyter-widgets/base",
      "_view_module_version": "1.2.0",
      "_view_name": "LayoutView",
      "align_content": null,
      "align_items": null,
      "align_self": null,
      "border": null,
      "bottom": null,
      "display": null,
      "flex": null,
      "flex_flow": null,
      "grid_area": null,
      "grid_auto_columns": null,
      "grid_auto_flow": null,
      "grid_auto_rows": null,
      "grid_column": null,
      "grid_gap": null,
      "grid_row": null,
      "grid_template_areas": null,
      "grid_template_columns": null,
      "grid_template_rows": null,
      "height": null,
      "justify_content": null,
      "justify_items": null,
      "left": null,
      "margin": null,
      "max_height": null,
      "max_width": null,
      "min_height": null,
      "min_width": null,
      "object_fit": null,
      "object_position": null,
      "order": null,
      "overflow": null,
      "overflow_x": null,
      "overflow_y": null,
      "padding": null,
      "right": null,
      "top": null,
      "visibility": null,
      "width": null
     }
    }
   }
  }
 },
 "nbformat": 4,
 "nbformat_minor": 5
}
